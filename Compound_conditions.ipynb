{
  "nbformat": 4,
  "nbformat_minor": 0,
  "metadata": {
    "colab": {
      "name": "Compound_conditions.ipynb",
      "provenance": [],
      "authorship_tag": "ABX9TyN4loEPJUSNR864+6UfISby",
      "include_colab_link": true
    },
    "kernelspec": {
      "name": "python3",
      "display_name": "Python 3"
    },
    "language_info": {
      "name": "python"
    }
  },
  "cells": [
    {
      "cell_type": "markdown",
      "metadata": {
        "id": "view-in-github",
        "colab_type": "text"
      },
      "source": [
        "<a href=\"https://colab.research.google.com/github/sunilks12/Programmingexpert_PYTHON/blob/main/Compound_conditions.ipynb\" target=\"_parent\"><img src=\"https://colab.research.google.com/assets/colab-badge.svg\" alt=\"Open In Colab\"/></a>"
      ]
    },
    {
      "cell_type": "code",
      "execution_count": 1,
      "metadata": {
        "colab": {
          "base_uri": "https://localhost:8080/"
        },
        "id": "zuAn4QAngz5x",
        "outputId": "b514a5c2-4c39-4380-948b-21263105dab2"
      },
      "outputs": [
        {
          "output_type": "stream",
          "name": "stdout",
          "text": [
            "True\n",
            "True\n",
            "True\n",
            "True\n"
          ]
        }
      ],
      "source": [
        "w = True\n",
        "x = True\n",
        "y = False\n",
        "z = True\n",
        "# Don't change any of these `condition_` variables.\n",
        "condition_1 = w and x and not y or not z\n",
        "condition_2 = not (w and not w)\n",
        "condition_3 = not (w and y or y)\n",
        "condition_4 = x and (y or z and w)\n",
        "\n",
        "# All of these should print `True`.\n",
        "print(condition_1)\n",
        "print(condition_2)\n",
        "print(condition_3)\n",
        "print(condition_4)"
      ]
    },
    {
      "cell_type": "code",
      "source": [
        "# Learn more about it online \n"
      ],
      "metadata": {
        "id": "o9u9gJRMjhWG"
      },
      "execution_count": 2,
      "outputs": []
    },
    {
      "cell_type": "code",
      "source": [
        ""
      ],
      "metadata": {
        "id": "XBoVZliKjy6W"
      },
      "execution_count": null,
      "outputs": []
    }
  ]
}