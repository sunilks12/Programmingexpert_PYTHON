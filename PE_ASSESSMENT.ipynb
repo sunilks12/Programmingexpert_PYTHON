{
  "nbformat": 4,
  "nbformat_minor": 0,
  "metadata": {
    "colab": {
      "name": "PE ASSESSMENT.ipynb",
      "provenance": [],
      "collapsed_sections": [],
      "authorship_tag": "ABX9TyO5NJzCvypBVecPAiW3HS30"
    },
    "kernelspec": {
      "name": "python3",
      "display_name": "Python 3"
    },
    "language_info": {
      "name": "python"
    }
  },
  "cells": [
    {
      "cell_type": "code",
      "execution_count": null,
      "metadata": {
        "colab": {
          "base_uri": "https://localhost:8080/"
        },
        "id": "aaBRMU-NHFyK",
        "outputId": "cedafde9-e1c5-444d-a216-e299430c1c85"
      },
      "outputs": [
        {
          "name": "stdout",
          "output_type": "stream",
          "text": [
            "Hi Welcome to the game\n",
            "Do you want to start the game (y/n): n\n"
          ]
        }
      ],
      "source": [
        "# my code\n",
        "import random\n",
        "win_count=0\n",
        "match_count=0\n",
        "print(\"Hi Welcome to the game\")\n",
        "user_input=input(\"Do you want to start the game (y/n): \")\n",
        "while user_input.lower() not in ['y','n']:\n",
        "  user_input=input(\"Invalid input, Please try again: \")\n",
        "\n",
        "is_play=user_input.lower()=='y'\n",
        "while is_play:\n",
        "  print(\"Enter the start and end of the number to be in range\")\n",
        "  start=input(\"Enter the start of the number:\")\n",
        "  end=input(\"Enter the end of the number:\")\n",
        "\n",
        "  while int(start)<0 and int(start)>int(end):\n",
        "    start=input(\"invalid number, Enter the start of the number:\")\n",
        "    end=input(\"invalid number, Enter the start of the number:\")\n",
        "\n",
        "  input_1=input(\"Guess the number between your range:\")\n",
        "  input_1=int(input_1)\n",
        "  while (input_1 < int(start)) or (input_1 >= int(end)):\n",
        "    input_1=(\"Invalid number!, Enter again\")\n",
        "  comp_choice=random.randrange(int(start),int(end))\n",
        "  \n",
        "  match_count+=1\n",
        "\n",
        "  if input_1==comp_choice:\n",
        "    print(f\"You played {input_1}, computer played {comp_choice} and you won!! \")\n",
        "    win_count+=1\n",
        "\n",
        "  else:\n",
        "    print(f\"You played {input_1}, computer played {comp_choice} and you lost!! \")\n",
        "else:\n",
        "  is_play=False\n",
        "      \n",
        "\n",
        "\n",
        "\n",
        "\n",
        "\n"
      ]
    },
    {
      "cell_type": "code",
      "source": [
        "# PE SOLUTION\n",
        "\n",
        "\n",
        "import random\n",
        "\n",
        "start = input('Enter the start of the range: ')\n",
        "while not start.isdigit():\n",
        "    print('Please enter a valid number.')\n",
        "    start = input('Enter the start of the range: ')\n",
        "\n",
        "end = input('Enter the end of the range: ')\n",
        "while not end.isdigit() or int(end) < int(start):\n",
        "    print('Please enter a valid number.')\n",
        "    end = input('Enter the end of the range: ')\n",
        "\n",
        "random_number = random.randint(int(start), int(end))\n",
        "\n",
        "guess = None\n",
        "attempts = 0\n",
        "\n",
        "while guess != random_number:\n",
        "    guessed_number = input(\"Guess a number: \")\n",
        "    if not guessed_number.isdigit():\n",
        "        print(\"Please enter a valid number.\")\n",
        "        continue\n",
        "    \n",
        "    attempts += 1\n",
        "    guess = int(guessed_number)\n",
        "\n",
        "suffix = \"\"\n",
        "if attempts > 1:\n",
        "    suffix = \"s\"\n",
        "\n",
        "print(f'You guessed the number in {attempts} attempt{suffix}')\n"
      ],
      "metadata": {
        "colab": {
          "base_uri": "https://localhost:8080/"
        },
        "id": "q1KeNn08MzCH",
        "outputId": "7cbdd821-ae9d-4970-e3ba-69480a0ddfbe"
      },
      "execution_count": null,
      "outputs": [
        {
          "output_type": "stream",
          "name": "stdout",
          "text": [
            "Enter the start of the range: 3\n",
            "Enter the end of the range: 6\n",
            "Guess a number: 4\n",
            "Guess a number: 3\n",
            "You guessed the number in 2 attempts\n"
          ]
        }
      ]
    },
    {
      "cell_type": "code",
      "source": [
        "a=\"hello\"\n",
        "b=2\n",
        "a[:b]\n"
      ],
      "metadata": {
        "colab": {
          "base_uri": "https://localhost:8080/",
          "height": 36
        },
        "id": "pEbg40keM6f9",
        "outputId": "30ec190b-3e11-43b4-c79e-2c7587fd21d8"
      },
      "execution_count": null,
      "outputs": [
        {
          "output_type": "execute_result",
          "data": {
            "text/plain": [
              "'he'"
            ],
            "application/vnd.google.colaboratory.intrinsic+json": {
              "type": "string"
            }
          },
          "metadata": {},
          "execution_count": 38
        }
      ]
    },
    {
      "cell_type": "code",
      "source": [
        "def caesar_cipher(string, offset):\n",
        "    alphabet = ['a', 'b', 'c', 'd', 'e', 'f', 'g', 'h', 'i', 'j', 'k', 'l',\n",
        "                'm', 'n', 'o', 'p', 'q', 'r', 's', 't', 'u', 'v', 'w', 'x', 'y', 'z']\n",
        "\n",
        "    encoded_string = ''\n",
        "\n",
        "    for character in string:\n",
        "        position = alphabet.index(character)\n",
        "        offset_position = position - offset\n",
        "        # No need to handle negative positions because of negative indexing\n",
        "        encoded_character = alphabet[offset_position]\n",
        "        encoded_string += encoded_character\n",
        "\n",
        "    return encoded_string\n"
      ],
      "metadata": {
        "id": "7b1TIEBOZVA8"
      },
      "execution_count": null,
      "outputs": []
    },
    {
      "cell_type": "code",
      "source": [
        "caesar_cipher(\"hello\",2)"
      ],
      "metadata": {
        "id": "Tpf97cLA2994",
        "outputId": "e88279ca-1543-4639-a945-a352470033e0",
        "colab": {
          "base_uri": "https://localhost:8080/",
          "height": 36
        }
      },
      "execution_count": null,
      "outputs": [
        {
          "output_type": "execute_result",
          "data": {
            "text/plain": [
              "'fcjjm'"
            ],
            "application/vnd.google.colaboratory.intrinsic+json": {
              "type": "string"
            }
          },
          "metadata": {},
          "execution_count": 40
        }
      ]
    },
    {
      "cell_type": "code",
      "source": [
        "user_dict={}\n",
        "\n",
        "play=input(\"wanna play or not: \")\n",
        "while play not in [\"y\",\"n\"]:\n",
        "  play=input(\"wanna play or not: \")\n",
        "\n",
        "\n",
        "is_play=play.lower()==\"y\"\n",
        "while is_play:\n",
        "  options=input(\"Enter qw to play 2 to quit: \")\n",
        "  while options in ['y']:\n",
        "    keys=input(\"Enter the alphabet: \")\n",
        "    if keys!='qw': \n",
        "      values=int(input(\"Enter the number: \"))\n",
        "      user_dict[keys]=values\n",
        "    else:\n",
        "      break\n",
        "      is_play=False\n",
        "  is_play=False\n",
        "is_play=False\n",
        "\n",
        "\n",
        "    \n",
        "\n",
        "    \n",
        "print(user_dict) "
      ],
      "metadata": {
        "id": "FazIgxsG3BIx",
        "colab": {
          "base_uri": "https://localhost:8080/"
        },
        "outputId": "e238a840-1696-4a97-fecf-c56fff882551"
      },
      "execution_count": null,
      "outputs": [
        {
          "output_type": "stream",
          "name": "stdout",
          "text": [
            "wanna play or not: y\n",
            "Enter qw to play 2 to quit: y\n",
            "Enter the alphabet: a\n",
            "Enter the number: 3\n",
            "Enter the alphabet: b\n",
            "Enter the number: 4\n",
            "Enter the alphabet: c\n",
            "Enter the number: 3\n",
            "Enter the alphabet: d\n",
            "Enter the number: 4\n",
            "Enter the alphabet: qw\n",
            "{'a': 3, 'b': 4, 'c': 3, 'd': 4}\n"
          ]
        }
      ]
    },
    {
      "cell_type": "code",
      "source": [
        "string1=\"hello\"\n",
        "string2='hey'\n",
        "#[val for key,val in user_dict.items() if key in strings]\n"
      ],
      "metadata": {
        "id": "feKlmnT3hods"
      },
      "execution_count": null,
      "outputs": []
    },
    {
      "cell_type": "code",
      "source": [
        "for key in user_dict:\n",
        "  print(key)\n",
        "  for i in string1:\n",
        "    if i in \n",
        "    print(i)\n",
        "\n",
        "\n",
        "    #print(i)\n",
        "      #print(user_dict[key])\n",
        "#print(user_dict)"
      ],
      "metadata": {
        "colab": {
          "base_uri": "https://localhost:8080/"
        },
        "id": "xKafiA9Th1XB",
        "outputId": "61e0d516-5367-4db8-a6cb-99f5674ccc60"
      },
      "execution_count": null,
      "outputs": [
        {
          "output_type": "stream",
          "name": "stdout",
          "text": [
            "a\n",
            "h\n",
            "e\n",
            "l\n",
            "l\n",
            "o\n",
            "b\n",
            "h\n",
            "e\n",
            "l\n",
            "l\n",
            "o\n",
            "c\n",
            "h\n",
            "e\n",
            "l\n",
            "l\n",
            "o\n",
            "d\n",
            "h\n",
            "e\n",
            "l\n",
            "l\n",
            "o\n"
          ]
        }
      ]
    },
    {
      "cell_type": "code",
      "source": [
        "\n",
        "def create_strings_from_characters(frequencies, string1, string2):\n",
        "    can_create_string1 = can_create_string_from_frequencies(\n",
        "        frequencies, string1)\n",
        "    can_create_string2 = can_create_string_from_frequencies(\n",
        "        frequencies, string2)\n",
        "\n",
        "    if (not can_create_string1) or (not can_create_string2):\n",
        "        if can_create_string1 or can_create_string2:\n",
        "            return 1\n",
        "\n",
        "        return 0\n",
        "\n",
        "    for character in string1 + string2:\n",
        "        if character not in frequencies or frequencies[character] == 0:\n",
        "            return 1\n",
        "\n",
        "        frequencies[character] -= 1\n",
        "\n",
        "    return 2\n",
        "\n",
        "\n",
        "def can_create_string_from_frequencies(frequencies, string):\n",
        "    for character in set(string):\n",
        "        if string.count(character) > frequencies.get(character, 0):\n",
        "            return False\n",
        "\n",
        "    return True\n"
      ],
      "metadata": {
        "id": "EGZ3Xsyg8hn_"
      },
      "execution_count": null,
      "outputs": []
    },
    {
      "cell_type": "code",
      "source": [
        "# my solution\n",
        "lst=[]\n",
        "n=int(input(\"Enter number of employee records you want to put: \"))\n",
        "print(\"Please enter name, age, salary\")\n",
        "for i in range(1,n):\n",
        "  ele=[input(\"Name: \"),int(input(\"age: \")),int(input(\"salary: \"))]\n",
        "  lst.append(ele)\n",
        "print(lst)\n",
        "\n",
        "def sort_name(item):\n",
        "  return item[0]\n",
        "def sort_age(item):\n",
        "  return item[1]\n",
        "def sort_salary(item):\n",
        "  return item[2]\n",
        "\n",
        "\n",
        "user_input=int(input(\"Enter 1,2,3: \"))\n",
        "if user_input==1:\n",
        "  lst.sort(key=sort_name)\n",
        "  print(lst)\n",
        "elif user_input==2:\n",
        "  lst.sort(key=sort_age)\n",
        "  print(lst)\n",
        "elif user_input==3:\n",
        "  lst.sort(key=sort_salary)\n",
        "  print(lst)\n"
      ],
      "metadata": {
        "colab": {
          "base_uri": "https://localhost:8080/",
          "height": 547
        },
        "id": "EM82rUF_-o-W",
        "outputId": "1ad4d424-a96f-46c3-957f-2cbe0f5c79f8"
      },
      "execution_count": null,
      "outputs": [
        {
          "output_type": "error",
          "ename": "KeyboardInterrupt",
          "evalue": "ignored",
          "traceback": [
            "\u001b[0;31m---------------------------------------------------------------------------\u001b[0m",
            "\u001b[0;31mKeyboardInterrupt\u001b[0m                         Traceback (most recent call last)",
            "\u001b[0;32m/usr/local/lib/python3.7/dist-packages/ipykernel/kernelbase.py\u001b[0m in \u001b[0;36m_input_request\u001b[0;34m(self, prompt, ident, parent, password)\u001b[0m\n\u001b[1;32m    728\u001b[0m             \u001b[0;32mtry\u001b[0m\u001b[0;34m:\u001b[0m\u001b[0;34m\u001b[0m\u001b[0;34m\u001b[0m\u001b[0m\n\u001b[0;32m--> 729\u001b[0;31m                 \u001b[0mident\u001b[0m\u001b[0;34m,\u001b[0m \u001b[0mreply\u001b[0m \u001b[0;34m=\u001b[0m \u001b[0mself\u001b[0m\u001b[0;34m.\u001b[0m\u001b[0msession\u001b[0m\u001b[0;34m.\u001b[0m\u001b[0mrecv\u001b[0m\u001b[0;34m(\u001b[0m\u001b[0mself\u001b[0m\u001b[0;34m.\u001b[0m\u001b[0mstdin_socket\u001b[0m\u001b[0;34m,\u001b[0m \u001b[0;36m0\u001b[0m\u001b[0;34m)\u001b[0m\u001b[0;34m\u001b[0m\u001b[0;34m\u001b[0m\u001b[0m\n\u001b[0m\u001b[1;32m    730\u001b[0m             \u001b[0;32mexcept\u001b[0m \u001b[0mException\u001b[0m\u001b[0;34m:\u001b[0m\u001b[0;34m\u001b[0m\u001b[0;34m\u001b[0m\u001b[0m\n",
            "\u001b[0;32m/usr/local/lib/python3.7/dist-packages/jupyter_client/session.py\u001b[0m in \u001b[0;36mrecv\u001b[0;34m(self, socket, mode, content, copy)\u001b[0m\n\u001b[1;32m    802\u001b[0m         \u001b[0;32mtry\u001b[0m\u001b[0;34m:\u001b[0m\u001b[0;34m\u001b[0m\u001b[0;34m\u001b[0m\u001b[0m\n\u001b[0;32m--> 803\u001b[0;31m             \u001b[0mmsg_list\u001b[0m \u001b[0;34m=\u001b[0m \u001b[0msocket\u001b[0m\u001b[0;34m.\u001b[0m\u001b[0mrecv_multipart\u001b[0m\u001b[0;34m(\u001b[0m\u001b[0mmode\u001b[0m\u001b[0;34m,\u001b[0m \u001b[0mcopy\u001b[0m\u001b[0;34m=\u001b[0m\u001b[0mcopy\u001b[0m\u001b[0;34m)\u001b[0m\u001b[0;34m\u001b[0m\u001b[0;34m\u001b[0m\u001b[0m\n\u001b[0m\u001b[1;32m    804\u001b[0m         \u001b[0;32mexcept\u001b[0m \u001b[0mzmq\u001b[0m\u001b[0;34m.\u001b[0m\u001b[0mZMQError\u001b[0m \u001b[0;32mas\u001b[0m \u001b[0me\u001b[0m\u001b[0;34m:\u001b[0m\u001b[0;34m\u001b[0m\u001b[0;34m\u001b[0m\u001b[0m\n",
            "\u001b[0;32m/usr/local/lib/python3.7/dist-packages/zmq/sugar/socket.py\u001b[0m in \u001b[0;36mrecv_multipart\u001b[0;34m(self, flags, copy, track)\u001b[0m\n\u001b[1;32m    726\u001b[0m         \"\"\"\n\u001b[0;32m--> 727\u001b[0;31m         \u001b[0mparts\u001b[0m \u001b[0;34m=\u001b[0m \u001b[0;34m[\u001b[0m\u001b[0mself\u001b[0m\u001b[0;34m.\u001b[0m\u001b[0mrecv\u001b[0m\u001b[0;34m(\u001b[0m\u001b[0mflags\u001b[0m\u001b[0;34m,\u001b[0m \u001b[0mcopy\u001b[0m\u001b[0;34m=\u001b[0m\u001b[0mcopy\u001b[0m\u001b[0;34m,\u001b[0m \u001b[0mtrack\u001b[0m\u001b[0;34m=\u001b[0m\u001b[0mtrack\u001b[0m\u001b[0;34m)\u001b[0m\u001b[0;34m]\u001b[0m\u001b[0;34m\u001b[0m\u001b[0;34m\u001b[0m\u001b[0m\n\u001b[0m\u001b[1;32m    728\u001b[0m         \u001b[0;31m# have first part already, only loop while more to receive\u001b[0m\u001b[0;34m\u001b[0m\u001b[0;34m\u001b[0m\u001b[0;34m\u001b[0m\u001b[0m\n",
            "\u001b[0;32mzmq/backend/cython/socket.pyx\u001b[0m in \u001b[0;36mzmq.backend.cython.socket.Socket.recv\u001b[0;34m()\u001b[0m\n",
            "\u001b[0;32mzmq/backend/cython/socket.pyx\u001b[0m in \u001b[0;36mzmq.backend.cython.socket.Socket.recv\u001b[0;34m()\u001b[0m\n",
            "\u001b[0;32mzmq/backend/cython/socket.pyx\u001b[0m in \u001b[0;36mzmq.backend.cython.socket._recv_copy\u001b[0;34m()\u001b[0m\n",
            "\u001b[0;32m/usr/local/lib/python3.7/dist-packages/zmq/backend/cython/checkrc.pxd\u001b[0m in \u001b[0;36mzmq.backend.cython.checkrc._check_rc\u001b[0;34m()\u001b[0m\n",
            "\u001b[0;31mKeyboardInterrupt\u001b[0m: ",
            "\nDuring handling of the above exception, another exception occurred:\n",
            "\u001b[0;31mKeyboardInterrupt\u001b[0m                         Traceback (most recent call last)",
            "\u001b[0;32m<ipython-input-26-04544bb53ba6>\u001b[0m in \u001b[0;36m<module>\u001b[0;34m()\u001b[0m\n\u001b[1;32m      1\u001b[0m \u001b[0mlst\u001b[0m\u001b[0;34m=\u001b[0m\u001b[0;34m[\u001b[0m\u001b[0;34m]\u001b[0m\u001b[0;34m\u001b[0m\u001b[0;34m\u001b[0m\u001b[0m\n\u001b[0;32m----> 2\u001b[0;31m \u001b[0mn\u001b[0m\u001b[0;34m=\u001b[0m\u001b[0mint\u001b[0m\u001b[0;34m(\u001b[0m\u001b[0minput\u001b[0m\u001b[0;34m(\u001b[0m\u001b[0;34m\"Enter number of employee records you want to put: \"\u001b[0m\u001b[0;34m)\u001b[0m\u001b[0;34m)\u001b[0m\u001b[0;34m\u001b[0m\u001b[0;34m\u001b[0m\u001b[0m\n\u001b[0m\u001b[1;32m      3\u001b[0m \u001b[0mprint\u001b[0m\u001b[0;34m(\u001b[0m\u001b[0;34m\"Please enter name, age, salary\"\u001b[0m\u001b[0;34m)\u001b[0m\u001b[0;34m\u001b[0m\u001b[0;34m\u001b[0m\u001b[0m\n\u001b[1;32m      4\u001b[0m \u001b[0;32mfor\u001b[0m \u001b[0mi\u001b[0m \u001b[0;32min\u001b[0m \u001b[0mrange\u001b[0m\u001b[0;34m(\u001b[0m\u001b[0;36m1\u001b[0m\u001b[0;34m,\u001b[0m\u001b[0mn\u001b[0m\u001b[0;34m)\u001b[0m\u001b[0;34m:\u001b[0m\u001b[0;34m\u001b[0m\u001b[0;34m\u001b[0m\u001b[0m\n\u001b[1;32m      5\u001b[0m   \u001b[0mele\u001b[0m\u001b[0;34m=\u001b[0m\u001b[0;34m[\u001b[0m\u001b[0minput\u001b[0m\u001b[0;34m(\u001b[0m\u001b[0;34m\"Name: \"\u001b[0m\u001b[0;34m)\u001b[0m\u001b[0;34m,\u001b[0m\u001b[0mint\u001b[0m\u001b[0;34m(\u001b[0m\u001b[0minput\u001b[0m\u001b[0;34m(\u001b[0m\u001b[0;34m\"age: \"\u001b[0m\u001b[0;34m)\u001b[0m\u001b[0;34m)\u001b[0m\u001b[0;34m,\u001b[0m\u001b[0mint\u001b[0m\u001b[0;34m(\u001b[0m\u001b[0minput\u001b[0m\u001b[0;34m(\u001b[0m\u001b[0;34m\"salary: \"\u001b[0m\u001b[0;34m)\u001b[0m\u001b[0;34m)\u001b[0m\u001b[0;34m]\u001b[0m\u001b[0;34m\u001b[0m\u001b[0;34m\u001b[0m\u001b[0m\n",
            "\u001b[0;32m/usr/local/lib/python3.7/dist-packages/ipykernel/kernelbase.py\u001b[0m in \u001b[0;36mraw_input\u001b[0;34m(self, prompt)\u001b[0m\n\u001b[1;32m    702\u001b[0m             \u001b[0mself\u001b[0m\u001b[0;34m.\u001b[0m\u001b[0m_parent_ident\u001b[0m\u001b[0;34m,\u001b[0m\u001b[0;34m\u001b[0m\u001b[0;34m\u001b[0m\u001b[0m\n\u001b[1;32m    703\u001b[0m             \u001b[0mself\u001b[0m\u001b[0;34m.\u001b[0m\u001b[0m_parent_header\u001b[0m\u001b[0;34m,\u001b[0m\u001b[0;34m\u001b[0m\u001b[0;34m\u001b[0m\u001b[0m\n\u001b[0;32m--> 704\u001b[0;31m             \u001b[0mpassword\u001b[0m\u001b[0;34m=\u001b[0m\u001b[0;32mFalse\u001b[0m\u001b[0;34m,\u001b[0m\u001b[0;34m\u001b[0m\u001b[0;34m\u001b[0m\u001b[0m\n\u001b[0m\u001b[1;32m    705\u001b[0m         )\n\u001b[1;32m    706\u001b[0m \u001b[0;34m\u001b[0m\u001b[0m\n",
            "\u001b[0;32m/usr/local/lib/python3.7/dist-packages/ipykernel/kernelbase.py\u001b[0m in \u001b[0;36m_input_request\u001b[0;34m(self, prompt, ident, parent, password)\u001b[0m\n\u001b[1;32m    732\u001b[0m             \u001b[0;32mexcept\u001b[0m \u001b[0mKeyboardInterrupt\u001b[0m\u001b[0;34m:\u001b[0m\u001b[0;34m\u001b[0m\u001b[0;34m\u001b[0m\u001b[0m\n\u001b[1;32m    733\u001b[0m                 \u001b[0;31m# re-raise KeyboardInterrupt, to truncate traceback\u001b[0m\u001b[0;34m\u001b[0m\u001b[0;34m\u001b[0m\u001b[0;34m\u001b[0m\u001b[0m\n\u001b[0;32m--> 734\u001b[0;31m                 \u001b[0;32mraise\u001b[0m \u001b[0mKeyboardInterrupt\u001b[0m\u001b[0;34m\u001b[0m\u001b[0;34m\u001b[0m\u001b[0m\n\u001b[0m\u001b[1;32m    735\u001b[0m             \u001b[0;32melse\u001b[0m\u001b[0;34m:\u001b[0m\u001b[0;34m\u001b[0m\u001b[0;34m\u001b[0m\u001b[0m\n\u001b[1;32m    736\u001b[0m                 \u001b[0;32mbreak\u001b[0m\u001b[0;34m\u001b[0m\u001b[0;34m\u001b[0m\u001b[0m\n",
            "\u001b[0;31mKeyboardInterrupt\u001b[0m: "
          ]
        }
      ]
    },
    {
      "cell_type": "code",
      "source": [
        "\n",
        "def sort_employees(employees, sort_by):\n",
        "    sort_indices = [\"name\", \"age\", \"salary\"]\n",
        "    sort_index = sort_indices.index(sort_by)\n",
        "\n",
        "    sorted_employees = []\n",
        "    # Copy the employees list so we don't modify it\n",
        "    employees_copy = employees[:]\n",
        "\n",
        "    while len(employees_copy) > 0:\n",
        "        smallest_employee_index = 0\n",
        "\n",
        "        for i, employee in enumerate(employees_copy):\n",
        "            current_smallest_value = employees_copy[smallest_employee_index][sort_index]\n",
        "            if employee[sort_index] < current_smallest_value:\n",
        "                smallest_employee_index = i\n",
        "\n",
        "        # After looking through all remaining employees we will have found the employee\n",
        "        # with the smallest sort_by value so we add it to the sorted list\n",
        "        next_sorted_employee = employees_copy[smallest_employee_index]\n",
        "        sorted_employees.append(next_sorted_employee)\n",
        "        employees_copy.pop(smallest_employee_index)\n",
        "\n",
        "    return sorted_employees\n"
      ],
      "metadata": {
        "id": "1HBRipC9GIQX"
      },
      "execution_count": null,
      "outputs": []
    },
    {
      "cell_type": "code",
      "source": [
        "employees=[[\"hey\",24,560],[\"jeu\",23,555]]\n",
        "\n",
        "sort_employees(employees,\"salary\")"
      ],
      "metadata": {
        "colab": {
          "base_uri": "https://localhost:8080/"
        },
        "id": "GYoxK103RN3z",
        "outputId": "c9f193c4-6203-47c5-dc83-d3ffb3de7f5b"
      },
      "execution_count": null,
      "outputs": [
        {
          "output_type": "execute_result",
          "data": {
            "text/plain": [
              "[['jeu', 23, 555], ['hey', 24, 560]]"
            ]
          },
          "metadata": {},
          "execution_count": 32
        }
      ]
    },
    {
      "cell_type": "code",
      "source": [
        ""
      ],
      "metadata": {
        "id": "20OqjIwiRQck"
      },
      "execution_count": null,
      "outputs": []
    },
    {
      "cell_type": "code",
      "source": [
        ""
      ],
      "metadata": {
        "id": "dxYqbZ2EOp7J"
      },
      "execution_count": null,
      "outputs": []
    },
    {
      "cell_type": "code",
      "source": [
        "# my solution\n",
        "print(\"Hi User, Welcome, Please enter the number of items you want to add to list\")\n",
        "\n",
        "user_lst=[]\n",
        "num_input=int(input(\"Enter number of items to be added to list: \"))\n",
        "\n",
        "for i in range(num_input):\n",
        "  user_input=input(\"Enter the items to be added to the list: \")\n",
        "  user_lst.append(user_input)\n",
        "print(user_lst)\n",
        "num=int(input(\"Enter how many larger numbers you want to see \"))\n",
        "print(num)\n",
        "\n",
        "#print(sorted(user_lst, key=len, reverse=True)[:num])\n",
        "\n",
        "dict1={}\n",
        "for i,j in enumerate(user_lst):\n",
        "  keys=j\n",
        "  dict1[keys]=len(j)\n",
        "\n",
        "print(dict1)\n",
        "\n",
        "lst3=sorted(dict1.items(),key=lambda t: t[1],reverse=True) # can add t[1,0] to see if values are equal it can be\n",
        "#sorted based on keys\n",
        "\n",
        "new=[]\n",
        "for i in range(num):\n",
        "  new_lst=lst3[i]\n",
        "  new.append(new_lst)\n",
        "print(new)\n"
      ],
      "metadata": {
        "colab": {
          "base_uri": "https://localhost:8080/"
        },
        "id": "gaO8kbUnOp_5",
        "outputId": "5d453bfc-62be-43d5-a1e7-e5ed3bc7d9a1"
      },
      "execution_count": null,
      "outputs": [
        {
          "output_type": "stream",
          "name": "stdout",
          "text": [
            "Hi User, Welcome, Please enter the number of items you want to add to list\n",
            "Enter number of items to be added to list: 6\n",
            "Enter the items to be added to the list: hi\n",
            "Enter the items to be added to the list: hello\n",
            "Enter the items to be added to the list: how\n",
            "Enter the items to be added to the list: are\n",
            "Enter the items to be added to the list: you\n",
            "Enter the items to be added to the list: doing\n",
            "['hi', 'hello', 'how', 'are', 'you', 'doing']\n",
            "Enter how many larger numbers you want to see 4\n",
            "4\n",
            "['hello', 'doing', 'how', 'are']\n"
          ]
        }
      ]
    },
    {
      "cell_type": "code",
      "source": [
        "# PE SOLUTION\n",
        "\n",
        "def get_n_longest_unique_words(words, n):\n",
        "    unique_words = get_unique_words(words)\n",
        "    longest_words = []\n",
        "\n",
        "    while len(longest_words) < n:\n",
        "        current_longest = \"\"\n",
        "        for word in unique_words:\n",
        "            if len(word) > len(current_longest):\n",
        "                current_longest = word\n",
        "\n",
        "        unique_words.remove(current_longest)\n",
        "        longest_words.append(current_longest)\n",
        "\n",
        "    return longest_words\n",
        "\n",
        "\n",
        "def get_unique_words(words):\n",
        "    unique_words = []\n",
        "    for word in words:\n",
        "        if words.count(word) == 1:\n",
        "            unique_words.append(word)\n",
        "\n",
        "    return unique_words\n",
        "\n",
        "\n"
      ],
      "metadata": {
        "id": "yCRnx3lpUK0i"
      },
      "execution_count": null,
      "outputs": []
    },
    {
      "cell_type": "code",
      "source": [
        "get_n_longest_unique_words([\"HELLO\",\"HOW\",\"ARE\",\"YOU\",\"SEE\"],2)"
      ],
      "metadata": {
        "colab": {
          "base_uri": "https://localhost:8080/"
        },
        "id": "vrmycHO-XCGP",
        "outputId": "e8284dcb-13c1-4eb1-8779-0d7aaf33b2aa"
      },
      "execution_count": null,
      "outputs": [
        {
          "output_type": "execute_result",
          "data": {
            "text/plain": [
              "['HELLO', 'HOW']"
            ]
          },
          "metadata": {},
          "execution_count": 72
        }
      ]
    },
    {
      "cell_type": "code",
      "source": [
        "def udf(new,num):\n",
        "  print(\"Hi User, Welcome, Please enter the number of items you want to add to list\")\n",
        "\n",
        "  user_lst=[]\n",
        "  num_input=int(input(\"Enter number of items to be added to list: \"))\n",
        "\n",
        "  for i in range(num_input):\n",
        "    user_input=input(\"Enter the items to be added to the list: \")\n",
        "    user_lst.append(user_input)\n",
        "  print(user_lst)\n",
        "  num=int(input(\"Enter how many larger numbers you want to see \"))\n",
        "  #print(num)\n",
        "\n",
        "  #print(sorted(user_lst, key=len, reverse=True)[:num])\n",
        "\n",
        "  dict1={}\n",
        "  for i,j in enumerate(user_lst):\n",
        "    keys=j\n",
        "    dict1[keys]=len(j)\n",
        "\n",
        "  #print(dict1)\n",
        "\n",
        "  lst3=sorted(dict1.items(),key=lambda t: t[1],reverse=True) # can add t[1,0] to see if values are equal it can be\n",
        "  #sorted based on keys\n",
        "\n",
        "  new=[]\n",
        "  for i in range(num):\n",
        "    new_lst=lst3[i]\n",
        "    new.append(new_lst)\n",
        "\n",
        "  #print(new)\n",
        "    return new"
      ],
      "metadata": {
        "id": "C7ZVQ0313FGr"
      },
      "execution_count": null,
      "outputs": []
    },
    {
      "cell_type": "code",
      "source": [
        "udf(new,num)"
      ],
      "metadata": {
        "colab": {
          "base_uri": "https://localhost:8080/"
        },
        "id": "XDZ3iEaT37yy",
        "outputId": "2c95e3f9-29a7-420e-e2aa-b257feecb392"
      },
      "execution_count": null,
      "outputs": [
        {
          "name": "stdout",
          "output_type": "stream",
          "text": [
            "Hi User, Welcome, Please enter the number of items you want to add to list\n",
            "Enter number of items to be added to list: 3\n",
            "Enter the items to be added to the list: hey\n",
            "Enter the items to be added to the list: hello\n",
            "Enter the items to be added to the list: hi\n",
            "['hey', 'hello', 'hi']\n",
            "Enter how many larger numbers you want to see 2\n"
          ]
        },
        {
          "output_type": "execute_result",
          "data": {
            "text/plain": [
              "[('hello', 5)]"
            ]
          },
          "metadata": {},
          "execution_count": 80
        }
      ]
    },
    {
      "cell_type": "code",
      "source": [
        "def pairs_sum_to_target(list1, list2, target):\n",
        "    pairs = []\n",
        "\n",
        "    for i, value1 in enumerate(list1):\n",
        "        for j, value2 in enumerate(list2):\n",
        "            if value1 + value2 == target:\n",
        "                pairs.append([i, j])\n",
        "\n",
        "    return pairs\n"
      ],
      "metadata": {
        "id": "auQqY60W4CWX"
      },
      "execution_count": null,
      "outputs": []
    },
    {
      "cell_type": "code",
      "source": [
        ""
      ],
      "metadata": {
        "id": "Oi1Sju7y8Cho"
      },
      "execution_count": null,
      "outputs": []
    }
  ]
}