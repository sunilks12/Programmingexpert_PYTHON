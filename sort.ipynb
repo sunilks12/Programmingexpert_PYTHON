{
  "nbformat": 4,
  "nbformat_minor": 0,
  "metadata": {
    "colab": {
      "name": "sort.ipynb",
      "provenance": [],
      "authorship_tag": "ABX9TyNpWEMRPniTIW8L7/YaKk0j"
    },
    "kernelspec": {
      "name": "python3",
      "display_name": "Python 3"
    },
    "language_info": {
      "name": "python"
    }
  },
  "cells": [
    {
      "cell_type": "code",
      "execution_count": null,
      "metadata": {
        "colab": {
          "base_uri": "https://localhost:8080/"
        },
        "id": "T681kJnt-ZGQ",
        "outputId": "bfed429d-f741-4260-8807-b8d32958cb6a"
      },
      "outputs": [
        {
          "output_type": "execute_result",
          "data": {
            "text/plain": [
              "[1, 1, 2, 3, 3, 5, 8]"
            ]
          },
          "metadata": {},
          "execution_count": 2
        }
      ],
      "source": [
        "# returns new version of list but does not change the original list but .sort does\n",
        "lst=[1,2,3,1,5,8,3]\n",
        "sorted(lst)"
      ]
    },
    {
      "cell_type": "code",
      "source": [
        "lst.sort()"
      ],
      "metadata": {
        "id": "4iuPqLDd-dZ6"
      },
      "execution_count": null,
      "outputs": []
    },
    {
      "cell_type": "code",
      "source": [
        "lst"
      ],
      "metadata": {
        "colab": {
          "base_uri": "https://localhost:8080/"
        },
        "id": "xRkd_cPS-sIS",
        "outputId": "8889cf14-2453-48f4-e90e-b1ab3bcf08ac"
      },
      "execution_count": null,
      "outputs": [
        {
          "output_type": "execute_result",
          "data": {
            "text/plain": [
              "[1, 1, 2, 3, 3, 5, 8]"
            ]
          },
          "metadata": {},
          "execution_count": 4
        }
      ]
    },
    {
      "cell_type": "code",
      "source": [
        "# descending order of the list\n",
        "lst=[1,2,3,1,5,8,3]\n",
        "print(sorted(lst,reverse=True))"
      ],
      "metadata": {
        "colab": {
          "base_uri": "https://localhost:8080/"
        },
        "id": "aWN0sGg6-s1G",
        "outputId": "62381d58-90a9-46bb-c659-74aeb4056a90"
      },
      "execution_count": null,
      "outputs": [
        {
          "output_type": "stream",
          "name": "stdout",
          "text": [
            "[8, 5, 3, 3, 2, 1, 1]\n"
          ]
        }
      ]
    },
    {
      "cell_type": "code",
      "source": [
        "# even if we use tuple as input , it returns the output as list so we will have to use tuple function to conver\n",
        "lst=(1,2,3,1,5,8,3)\n",
        "print(sorted(lst,reverse=True))\n",
        "print(tuple(sorted(lst,reverse=True)))"
      ],
      "metadata": {
        "colab": {
          "base_uri": "https://localhost:8080/"
        },
        "id": "8c82Y6wY-5Ay",
        "outputId": "272111c6-4536-469b-a342-905e3099425b"
      },
      "execution_count": null,
      "outputs": [
        {
          "output_type": "stream",
          "name": "stdout",
          "text": [
            "[8, 5, 3, 3, 2, 1, 1]\n",
            "(8, 5, 3, 3, 2, 1, 1)\n"
          ]
        }
      ]
    },
    {
      "cell_type": "code",
      "source": [
        "lst=[[-1,9],[2,3],[4,5],[0,0],[-2,0]]\n",
        "print(sorted(lst))\n"
      ],
      "metadata": {
        "colab": {
          "base_uri": "https://localhost:8080/"
        },
        "id": "WDOYRJQs_OYF",
        "outputId": "a7a0df84-9c2e-4be3-96af-e55e46b78482"
      },
      "execution_count": null,
      "outputs": [
        {
          "output_type": "stream",
          "name": "stdout",
          "text": [
            "[[-2, 0], [-1, 9], [0, 0], [2, 3], [4, 5]]\n"
          ]
        }
      ]
    },
    {
      "cell_type": "code",
      "source": [
        "lst.sort()\n",
        "lst"
      ],
      "metadata": {
        "colab": {
          "base_uri": "https://localhost:8080/"
        },
        "id": "0o4dAh66_3Oj",
        "outputId": "f5410b0c-9915-479e-d241-1e649cf08ce1"
      },
      "execution_count": null,
      "outputs": [
        {
          "output_type": "execute_result",
          "data": {
            "text/plain": [
              "[[-2, 0], [-1, 9], [0, 0], [2, 3], [4, 5]]"
            ]
          },
          "metadata": {},
          "execution_count": 13
        }
      ]
    },
    {
      "cell_type": "code",
      "source": [
        "lst=[[-1,9],[2,3],[4,5],[0,0],[-2,0]]\n",
        "print(sorted(lst, reverse=True))"
      ],
      "metadata": {
        "colab": {
          "base_uri": "https://localhost:8080/"
        },
        "id": "aVuRNBYlAFq_",
        "outputId": "909835f4-5ab4-46c6-f4c5-a1d9323b76bf"
      },
      "execution_count": null,
      "outputs": [
        {
          "output_type": "stream",
          "name": "stdout",
          "text": [
            "[[4, 5], [2, 3], [0, 0], [-1, 9], [-2, 0]]\n"
          ]
        }
      ]
    },
    {
      "cell_type": "code",
      "source": [
        "lst=[[-1,9],[2,3],[4,5],[0,0],[-2,0]]\n",
        "lst.sort(reverse=True)\n",
        "lst"
      ],
      "metadata": {
        "colab": {
          "base_uri": "https://localhost:8080/"
        },
        "id": "Gtly8PeBAVZt",
        "outputId": "59a682b6-41ce-46aa-f4d9-449acffdebef"
      },
      "execution_count": null,
      "outputs": [
        {
          "output_type": "execute_result",
          "data": {
            "text/plain": [
              "[[4, 5], [2, 3], [0, 0], [-1, 9], [-2, 0]]"
            ]
          },
          "metadata": {},
          "execution_count": 15
        }
      ]
    },
    {
      "cell_type": "code",
      "source": [
        "# if we have to sort by second element then we will have to define the custom function \n",
        "def sort_second(item):\n",
        "  return item[1]"
      ],
      "metadata": {
        "id": "y1nh4rhGAbsf"
      },
      "execution_count": null,
      "outputs": []
    },
    {
      "cell_type": "code",
      "source": [
        "lst=[[-1,9],[2,3],[4,5],[0,0],[-2,0]]\n",
        "lst.sort(reverse=True,key=sort_second)\n",
        "lst"
      ],
      "metadata": {
        "colab": {
          "base_uri": "https://localhost:8080/"
        },
        "id": "tsMyFhQBAtWW",
        "outputId": "1c3240d7-752c-48d8-94f7-bdc5a3d9ef0e"
      },
      "execution_count": null,
      "outputs": [
        {
          "output_type": "execute_result",
          "data": {
            "text/plain": [
              "[[-1, 9], [4, 5], [2, 3], [0, 0], [-2, 0]]"
            ]
          },
          "metadata": {},
          "execution_count": 17
        }
      ]
    },
    {
      "cell_type": "code",
      "source": [
        "def sort_third(item):\n",
        "  return item[2]\n",
        "lst=[[-1,9,-1],[2,3,-2],[4,5,0],[0,0,2],[-2,0,2]]\n",
        "lst.sort(reverse=True,key=sort_third)\n",
        "lst"
      ],
      "metadata": {
        "colab": {
          "base_uri": "https://localhost:8080/"
        },
        "id": "mkvi4j1zAxqc",
        "outputId": "50150f06-63fa-4d77-a8d4-3983cb199153"
      },
      "execution_count": null,
      "outputs": [
        {
          "output_type": "execute_result",
          "data": {
            "text/plain": [
              "[[0, 0, 2], [-2, 0, 2], [4, 5, 0], [-1, 9, -1], [2, 3, -2]]"
            ]
          },
          "metadata": {},
          "execution_count": 18
        }
      ]
    },
    {
      "cell_type": "code",
      "source": [
        "def sort_third1(item):\n",
        "  return sum(item)\n",
        "lst=[[-1,9,-1],[2,3,-2],[4,5,0],[0,0,2],[-2,0,2]]\n",
        "lst.sort(key=sort_third1)\n",
        "lst"
      ],
      "metadata": {
        "colab": {
          "base_uri": "https://localhost:8080/"
        },
        "id": "HdjtOyDBBDEu",
        "outputId": "3201d59d-2ed1-4db7-ac2b-be196e6c2fcc"
      },
      "execution_count": null,
      "outputs": [
        {
          "output_type": "execute_result",
          "data": {
            "text/plain": [
              "[[-2, 0, 2], [0, 0, 2], [2, 3, -2], [-1, 9, -1], [4, 5, 0]]"
            ]
          },
          "metadata": {},
          "execution_count": 20
        }
      ]
    },
    {
      "cell_type": "code",
      "source": [
        "lst = [3, 4, 2, -1, 2] \n",
        "# it returns None but values will be changed if we call the list again\n",
        "print(lst.sort())\n",
        "lst"
      ],
      "metadata": {
        "colab": {
          "base_uri": "https://localhost:8080/"
        },
        "id": "tRaZakPNBgD8",
        "outputId": "5de23d09-09b5-4563-eb38-409ebc3d197b"
      },
      "execution_count": null,
      "outputs": [
        {
          "output_type": "stream",
          "name": "stdout",
          "text": [
            "None\n"
          ]
        },
        {
          "output_type": "execute_result",
          "data": {
            "text/plain": [
              "[-1, 2, 2, 3, 4]"
            ]
          },
          "metadata": {},
          "execution_count": 22
        }
      ]
    },
    {
      "cell_type": "code",
      "source": [
        "people = {\"Tim\": 21, \"Joe\": 18, \"Sarah\": 25, \"Jennie\": 26, \"Bill\": 34}\n",
        "# when we use get method, it sorts by the dictionary values not by keys\n",
        "result = sorted(people, key=people.get)\n",
        "print(result)"
      ],
      "metadata": {
        "colab": {
          "base_uri": "https://localhost:8080/"
        },
        "id": "owLWLjB_CYSW",
        "outputId": "7c04e0f4-731a-4719-bccd-264a35512b4c"
      },
      "execution_count": null,
      "outputs": [
        {
          "output_type": "stream",
          "name": "stdout",
          "text": [
            "['Joe', 'Tim', 'Sarah', 'Jennie', 'Bill']\n"
          ]
        }
      ]
    },
    {
      "cell_type": "code",
      "source": [
        ""
      ],
      "metadata": {
        "id": "M6h4Af5dDFVb"
      },
      "execution_count": null,
      "outputs": []
    }
  ]
}