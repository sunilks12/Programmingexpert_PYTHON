{
  "nbformat": 4,
  "nbformat_minor": 0,
  "metadata": {
    "colab": {
      "name": "Dictionaries.ipynb",
      "provenance": [],
      "authorship_tag": "ABX9TyMWUMsoXwsHNiWaoA+88NNa"
    },
    "kernelspec": {
      "name": "python3",
      "display_name": "Python 3"
    },
    "language_info": {
      "name": "python"
    }
  },
  "cells": [
    {
      "cell_type": "code",
      "execution_count": null,
      "metadata": {
        "id": "Df3K-7sXPNV0"
      },
      "outputs": [],
      "source": [
        "x={2:\"hello\", \"hi\":3}"
      ]
    },
    {
      "cell_type": "code",
      "source": [
        "x[2]"
      ],
      "metadata": {
        "colab": {
          "base_uri": "https://localhost:8080/",
          "height": 36
        },
        "id": "99m3eWE7QEU0",
        "outputId": "b227cf93-531a-4cf2-bab9-043b71649cb7"
      },
      "execution_count": null,
      "outputs": [
        {
          "output_type": "execute_result",
          "data": {
            "text/plain": [
              "'hello'"
            ],
            "application/vnd.google.colaboratory.intrinsic+json": {
              "type": "string"
            }
          },
          "metadata": {},
          "execution_count": 24
        }
      ]
    },
    {
      "cell_type": "code",
      "source": [
        "print(x[\"hi\"])"
      ],
      "metadata": {
        "colab": {
          "base_uri": "https://localhost:8080/"
        },
        "id": "ysxGKMMHRLyO",
        "outputId": "96135fa8-0705-47ce-ee86-1eeef15fdf76"
      },
      "execution_count": null,
      "outputs": [
        {
          "output_type": "stream",
          "name": "stdout",
          "text": [
            "3\n"
          ]
        }
      ]
    },
    {
      "cell_type": "code",
      "source": [
        "x.keys()"
      ],
      "metadata": {
        "colab": {
          "base_uri": "https://localhost:8080/"
        },
        "id": "InEiLNANQGRD",
        "outputId": "2bf3730d-b5a9-49da-cc3a-c345e6ef43a1"
      },
      "execution_count": null,
      "outputs": [
        {
          "output_type": "execute_result",
          "data": {
            "text/plain": [
              "dict_keys([2, 3])"
            ]
          },
          "metadata": {},
          "execution_count": 6
        }
      ]
    },
    {
      "cell_type": "code",
      "source": [
        "x.values()"
      ],
      "metadata": {
        "colab": {
          "base_uri": "https://localhost:8080/"
        },
        "id": "VGz35Iu7QNsj",
        "outputId": "98f6c515-68a2-4758-a7bb-cdc6e543bd25"
      },
      "execution_count": null,
      "outputs": [
        {
          "output_type": "execute_result",
          "data": {
            "text/plain": [
              "dict_values(['hello', 'hi'])"
            ]
          },
          "metadata": {},
          "execution_count": 9
        }
      ]
    },
    {
      "cell_type": "code",
      "source": [
        "x={2:3, 2:4}"
      ],
      "metadata": {
        "id": "OAjYZDZAQPww"
      },
      "execution_count": null,
      "outputs": []
    },
    {
      "cell_type": "code",
      "source": [
        "x[2]# it takes from the right"
      ],
      "metadata": {
        "colab": {
          "base_uri": "https://localhost:8080/"
        },
        "id": "Lm6CtKpwQYRF",
        "outputId": "b3a2da31-ff26-42ff-d77c-c9a424c1bc36"
      },
      "execution_count": null,
      "outputs": [
        {
          "output_type": "execute_result",
          "data": {
            "text/plain": [
              "4"
            ]
          },
          "metadata": {},
          "execution_count": 15
        }
      ]
    },
    {
      "cell_type": "code",
      "source": [
        "x={}\n",
        "x['key']='value'"
      ],
      "metadata": {
        "id": "-dZP_GtlQZqE"
      },
      "execution_count": null,
      "outputs": []
    },
    {
      "cell_type": "code",
      "source": [
        "x.keys()"
      ],
      "metadata": {
        "colab": {
          "base_uri": "https://localhost:8080/"
        },
        "id": "q3nscjPvSAik",
        "outputId": "7e0a1095-d997-48a1-a619-823f6373f8ab"
      },
      "execution_count": null,
      "outputs": [
        {
          "output_type": "execute_result",
          "data": {
            "text/plain": [
              "dict_keys(['key'])"
            ]
          },
          "metadata": {},
          "execution_count": 26
        }
      ]
    },
    {
      "cell_type": "code",
      "source": [
        "# Replacing\n",
        "x={'key':1}\n",
        "x['key']='value'\n",
        "x.keys()"
      ],
      "metadata": {
        "colab": {
          "base_uri": "https://localhost:8080/"
        },
        "id": "N3qQr0vZSDjw",
        "outputId": "29794101-6a72-450f-837e-52da722245f5"
      },
      "execution_count": null,
      "outputs": [
        {
          "output_type": "execute_result",
          "data": {
            "text/plain": [
              "dict_keys(['key'])"
            ]
          },
          "metadata": {},
          "execution_count": 28
        }
      ]
    },
    {
      "cell_type": "code",
      "source": [
        "x=dict() # default function\n",
        "x['key']='value'\n",
        "x.values()"
      ],
      "metadata": {
        "colab": {
          "base_uri": "https://localhost:8080/"
        },
        "id": "5gsjM9HeSNcr",
        "outputId": "de056a18-ba58-49f6-cff1-1cd6c92041c9"
      },
      "execution_count": null,
      "outputs": [
        {
          "output_type": "execute_result",
          "data": {
            "text/plain": [
              "dict_values(['value'])"
            ]
          },
          "metadata": {},
          "execution_count": 30
        }
      ]
    },
    {
      "cell_type": "code",
      "source": [
        "del x['key'] # deleting the keys"
      ],
      "metadata": {
        "id": "BkX7-3w-Sj4x"
      },
      "execution_count": null,
      "outputs": []
    },
    {
      "cell_type": "code",
      "source": [
        "x"
      ],
      "metadata": {
        "colab": {
          "base_uri": "https://localhost:8080/"
        },
        "id": "kzLFh53JS1Y_",
        "outputId": "69786f3d-06d8-460e-9cad-7d6d96a54856"
      },
      "execution_count": null,
      "outputs": [
        {
          "output_type": "execute_result",
          "data": {
            "text/plain": [
              "{}"
            ]
          },
          "metadata": {},
          "execution_count": 32
        }
      ]
    },
    {
      "cell_type": "code",
      "source": [
        "x={1:1,2:2,3:3,4:4}\n",
        "contains= 1 in x # this 1 is only for keys , if present in value still it shows false\n",
        "print(contains)"
      ],
      "metadata": {
        "colab": {
          "base_uri": "https://localhost:8080/"
        },
        "id": "NkzXkY2BS2GP",
        "outputId": "99798dec-9ef1-4afb-c823-436861597f7c"
      },
      "execution_count": null,
      "outputs": [
        {
          "output_type": "stream",
          "name": "stdout",
          "text": [
            "True\n"
          ]
        }
      ]
    },
    {
      "cell_type": "code",
      "source": [
        "# for values \n",
        "values=x.values()\n",
        "print(values)"
      ],
      "metadata": {
        "colab": {
          "base_uri": "https://localhost:8080/"
        },
        "id": "sjtA9pOATJJ9",
        "outputId": "4fb3c210-6471-40a9-bf08-43bd4418ae68"
      },
      "execution_count": null,
      "outputs": [
        {
          "output_type": "stream",
          "name": "stdout",
          "text": [
            "dict_values([1, 2, 3, 4])\n"
          ]
        }
      ]
    },
    {
      "cell_type": "code",
      "source": [
        "# if we try subsetting it, it will throw error\n",
        "values[1]"
      ],
      "metadata": {
        "colab": {
          "base_uri": "https://localhost:8080/",
          "height": 186
        },
        "id": "PvU6aPfITw8S",
        "outputId": "a1ac9442-396f-4336-f44e-4454bcb6442d"
      },
      "execution_count": null,
      "outputs": [
        {
          "output_type": "error",
          "ename": "TypeError",
          "evalue": "ignored",
          "traceback": [
            "\u001b[0;31m---------------------------------------------------------------------------\u001b[0m",
            "\u001b[0;31mTypeError\u001b[0m                                 Traceback (most recent call last)",
            "\u001b[0;32m<ipython-input-36-9ac3242541d4>\u001b[0m in \u001b[0;36m<module>\u001b[0;34m()\u001b[0m\n\u001b[1;32m      1\u001b[0m \u001b[0;31m# if we try subsetting it, it will throw error\u001b[0m\u001b[0;34m\u001b[0m\u001b[0;34m\u001b[0m\u001b[0;34m\u001b[0m\u001b[0m\n\u001b[0;32m----> 2\u001b[0;31m \u001b[0mvalues\u001b[0m\u001b[0;34m[\u001b[0m\u001b[0;36m1\u001b[0m\u001b[0;34m]\u001b[0m\u001b[0;34m\u001b[0m\u001b[0;34m\u001b[0m\u001b[0m\n\u001b[0m",
            "\u001b[0;31mTypeError\u001b[0m: 'dict_values' object is not subscriptable"
          ]
        }
      ]
    },
    {
      "cell_type": "code",
      "source": [
        "# so we have to convert it into list then we can subset\n",
        "values=list(x.values())\n",
        "values[1]"
      ],
      "metadata": {
        "colab": {
          "base_uri": "https://localhost:8080/"
        },
        "id": "OYmKbl1MT3Qg",
        "outputId": "d864149e-b66a-499b-a890-0df8fc785f3a"
      },
      "execution_count": null,
      "outputs": [
        {
          "output_type": "execute_result",
          "data": {
            "text/plain": [
              "2"
            ]
          },
          "metadata": {},
          "execution_count": 39
        }
      ]
    },
    {
      "cell_type": "code",
      "source": [
        "x.items()"
      ],
      "metadata": {
        "colab": {
          "base_uri": "https://localhost:8080/"
        },
        "id": "S3u78rMtUB7r",
        "outputId": "eeaecbb8-125d-4494-fe4f-d8aaddfe2b8d"
      },
      "execution_count": null,
      "outputs": [
        {
          "output_type": "execute_result",
          "data": {
            "text/plain": [
              "dict_items([(1, 1), (2, 2), (3, 3), (4, 4)])"
            ]
          },
          "metadata": {},
          "execution_count": 40
        }
      ]
    },
    {
      "cell_type": "code",
      "source": [
        "s=list(x.items())"
      ],
      "metadata": {
        "id": "eq9_30GtWMec"
      },
      "execution_count": null,
      "outputs": []
    },
    {
      "cell_type": "code",
      "source": [
        "s"
      ],
      "metadata": {
        "colab": {
          "base_uri": "https://localhost:8080/"
        },
        "id": "iJ7SI4-zWk9K",
        "outputId": "adeac346-e917-4691-b114-4df0f2df7651"
      },
      "execution_count": null,
      "outputs": [
        {
          "output_type": "execute_result",
          "data": {
            "text/plain": [
              "[(1, 1), (2, 2), (3, 3), (4, 4)]"
            ]
          },
          "metadata": {},
          "execution_count": 42
        }
      ]
    },
    {
      "cell_type": "code",
      "source": [
        " len(x)"
      ],
      "metadata": {
        "colab": {
          "base_uri": "https://localhost:8080/"
        },
        "id": "owZPdzo6WlYt",
        "outputId": "ef9d0904-6e8d-4685-f7eb-5c2595df465e"
      },
      "execution_count": null,
      "outputs": [
        {
          "output_type": "execute_result",
          "data": {
            "text/plain": [
              "4"
            ]
          },
          "metadata": {},
          "execution_count": 44
        }
      ]
    },
    {
      "cell_type": "code",
      "source": [
        "# looping through dictionary\n",
        "for i in x:\n",
        "  value=x[i]\n",
        "  print(i,value)"
      ],
      "metadata": {
        "colab": {
          "base_uri": "https://localhost:8080/"
        },
        "id": "VeLcU_TWXGKO",
        "outputId": "5f8483b5-e6b8-42fc-8876-98211af72f04"
      },
      "execution_count": null,
      "outputs": [
        {
          "output_type": "stream",
          "name": "stdout",
          "text": [
            "1 1\n",
            "2 2\n",
            "3 3\n",
            "4 4\n"
          ]
        }
      ]
    },
    {
      "cell_type": "code",
      "source": [
        "for key,value in x.items():\n",
        "  print(key,value)"
      ],
      "metadata": {
        "colab": {
          "base_uri": "https://localhost:8080/"
        },
        "id": "MapeJ-2TXkWJ",
        "outputId": "1dbca07c-2825-40d3-c601-799748db9499"
      },
      "execution_count": null,
      "outputs": [
        {
          "output_type": "stream",
          "name": "stdout",
          "text": [
            "1 1\n",
            "2 2\n",
            "3 3\n",
            "4 4\n"
          ]
        }
      ]
    },
    {
      "cell_type": "code",
      "source": [
        "# if value doesnt exit create it and add it\n",
        "x[4]=x[4]+1"
      ],
      "metadata": {
        "id": "jBS67-3pX_b1"
      },
      "execution_count": null,
      "outputs": []
    },
    {
      "cell_type": "code",
      "source": [
        "x"
      ],
      "metadata": {
        "colab": {
          "base_uri": "https://localhost:8080/"
        },
        "id": "dfSXMlk5Yb2N",
        "outputId": "54e12726-5a70-4abd-af83-3c393ca5722e"
      },
      "execution_count": null,
      "outputs": [
        {
          "output_type": "execute_result",
          "data": {
            "text/plain": [
              "{1: 1, 2: 2, 3: 3, 4: 5}"
            ]
          },
          "metadata": {},
          "execution_count": 52
        }
      ]
    },
    {
      "cell_type": "code",
      "source": [
        "# we can use get method to search\n",
        "x[5]=x.get(5,0)+1\n",
        "x"
      ],
      "metadata": {
        "colab": {
          "base_uri": "https://localhost:8080/"
        },
        "id": "OYONd8spYcWU",
        "outputId": "c376f3c7-c14e-4122-d226-aba1d8924b71"
      },
      "execution_count": null,
      "outputs": [
        {
          "output_type": "execute_result",
          "data": {
            "text/plain": [
              "{1: 1, 2: 2, 3: 3, 4: 5, 5: 1}"
            ]
          },
          "metadata": {},
          "execution_count": 53
        }
      ]
    },
    {
      "cell_type": "code",
      "source": [
        "characters={}\n",
        "string= \"hello world\"\n",
        "for char in string:\n",
        "  characters[char]=characters.get(char,0)+1\n",
        "print(characters)"
      ],
      "metadata": {
        "colab": {
          "base_uri": "https://localhost:8080/"
        },
        "id": "UToD2MqqY8B6",
        "outputId": "5c1df076-c723-4519-df21-e43f382641b7"
      },
      "execution_count": null,
      "outputs": [
        {
          "output_type": "stream",
          "name": "stdout",
          "text": [
            "{'h': 1, 'e': 1, 'l': 3, 'o': 2, ' ': 1, 'w': 1, 'r': 1, 'd': 1}\n"
          ]
        }
      ]
    },
    {
      "cell_type": "code",
      "source": [
        "counts={}\n",
        "\n",
        "while True:\n",
        "  num=input(\"Enter number and q to quit\")\n",
        "  if num==\"q\":\n",
        "    break\n",
        "    \n",
        "  num=int(num)\n",
        "  counts[num]=counts.get(num,0)+1\n",
        "  print(counts)"
      ],
      "metadata": {
        "colab": {
          "base_uri": "https://localhost:8080/"
        },
        "id": "gVsIUTnlaEzM",
        "outputId": "b544f248-0e59-4b0e-f493-38d3cc1695e1"
      },
      "execution_count": null,
      "outputs": [
        {
          "name": "stdout",
          "output_type": "stream",
          "text": [
            "Enter number and q to quit1\n",
            "{1: 1}\n",
            "Enter number and q to quit2\n",
            "{1: 1, 2: 1}\n",
            "Enter number and q to quit22\n",
            "{1: 1, 2: 1, 22: 1}\n",
            "Enter number and q to quit44\n",
            "{1: 1, 2: 1, 22: 1, 44: 1}\n",
            "Enter number and q to quit22\n",
            "{1: 1, 2: 1, 22: 2, 44: 1}\n",
            "Enter number and q to quit33\n",
            "{1: 1, 2: 1, 22: 2, 44: 1, 33: 1}\n",
            "Enter number and q to quitq\n"
          ]
        }
      ]
    },
    {
      "cell_type": "code",
      "source": [
        "string = input(\"Enter a string: \")\n",
        "\n",
        "character_frequencies = {}\n",
        "\n",
        "for character in string:\n",
        "    if character not in character_frequencies:\n",
        "        character_frequencies[character] = 0\n",
        "\n",
        "    character_frequencies[character] += 1\n",
        "\n",
        "for key in character_frequencies:\n",
        "    frequency = character_frequencies[key]\n",
        "\n",
        "    print(f\"{key}: {frequency}\")"
      ],
      "metadata": {
        "colab": {
          "base_uri": "https://localhost:8080/"
        },
        "id": "-yw3ym74b0I2",
        "outputId": "fa877062-5b1c-475f-e3a1-edebf3b6f659"
      },
      "execution_count": null,
      "outputs": [
        {
          "output_type": "stream",
          "name": "stdout",
          "text": [
            "Enter a string: hello\n",
            "h: 1\n",
            "e: 1\n",
            "l: 2\n",
            "o: 1\n"
          ]
        }
      ]
    },
    {
      "cell_type": "code",
      "source": [
        "string = input(\"Enter a string: \")\n",
        "\n",
        "character_frequencies = {}\n",
        "\n",
        "for character in string:\n",
        "    character_frequencies[character] = character_frequencies.get(character, 0) + 1\n",
        "\n",
        "for key in character_frequencies:\n",
        "    frequency = character_frequencies[key]\n",
        "\n",
        "    print(f\"{key}: {frequency}\")\n"
      ],
      "metadata": {
        "colab": {
          "base_uri": "https://localhost:8080/"
        },
        "id": "NwyB7MFGeOsg",
        "outputId": "093645d9-54d9-42b9-b315-29b4d5b9fcd8"
      },
      "execution_count": null,
      "outputs": [
        {
          "output_type": "stream",
          "name": "stdout",
          "text": [
            "Enter a string: hello\n",
            "h: 1\n",
            "e: 1\n",
            "l: 2\n",
            "o: 1\n"
          ]
        }
      ]
    },
    {
      "cell_type": "code",
      "source": [
        ""
      ],
      "metadata": {
        "id": "YPHcI_RDeTzG"
      },
      "execution_count": null,
      "outputs": []
    }
  ]
}