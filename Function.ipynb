{
  "nbformat": 4,
  "nbformat_minor": 0,
  "metadata": {
    "colab": {
      "name": "Function.ipynb",
      "provenance": [],
      "authorship_tag": "ABX9TyNp3LT1Se+MBc4x9p7jOly5"
    },
    "kernelspec": {
      "name": "python3",
      "display_name": "Python 3"
    },
    "language_info": {
      "name": "python"
    }
  },
  "cells": [
    {
      "cell_type": "code",
      "execution_count": null,
      "metadata": {
        "colab": {
          "base_uri": "https://localhost:8080/"
        },
        "id": "WWOEFm9hNcAC",
        "outputId": "1394e9bf-dd4d-42ba-ca48-5191a2ad1da0"
      },
      "outputs": [
        {
          "output_type": "stream",
          "name": "stdout",
          "text": [
            "Hello\n"
          ]
        }
      ],
      "source": [
        "def print_value():\n",
        "  print(\"Hello\")\n",
        "print_value()"
      ]
    },
    {
      "cell_type": "code",
      "source": [
        "def print_value(value):\n",
        "  print(value)\n",
        "print_value(\"hi\")\n",
        "print_value(value=\"HOW\")\n"
      ],
      "metadata": {
        "colab": {
          "base_uri": "https://localhost:8080/"
        },
        "id": "tPlgvijmNisX",
        "outputId": "7b220d30-c1f2-41a4-fc96-41ef72f97eac"
      },
      "execution_count": null,
      "outputs": [
        {
          "output_type": "stream",
          "name": "stdout",
          "text": [
            "hi\n",
            "HOW\n"
          ]
        }
      ]
    },
    {
      "cell_type": "code",
      "source": [
        "def add_5(x,y):\n",
        "  result=x+y+5\n",
        "  return(result)\n",
        "add_5(5,5)"
      ],
      "metadata": {
        "colab": {
          "base_uri": "https://localhost:8080/"
        },
        "id": "7pCNMIGbNseb",
        "outputId": "e68c8828-3343-4850-f472-89306270b257"
      },
      "execution_count": null,
      "outputs": [
        {
          "output_type": "execute_result",
          "data": {
            "text/plain": [
              "15"
            ]
          },
          "metadata": {},
          "execution_count": 4
        }
      ]
    },
    {
      "cell_type": "code",
      "source": [
        "x=5\n",
        "y=6\n",
        "z=7\n",
        "def addd(x,y,z):\n",
        "\n",
        "  result=x+y+z\n",
        "  return(result)\n",
        "addd(x,y,z)"
      ],
      "metadata": {
        "colab": {
          "base_uri": "https://localhost:8080/"
        },
        "id": "GUII1yguOBHQ",
        "outputId": "71f3b70e-1f8e-4308-b647-c09116b77581"
      },
      "execution_count": null,
      "outputs": [
        {
          "output_type": "execute_result",
          "data": {
            "text/plain": [
              "18"
            ]
          },
          "metadata": {},
          "execution_count": 14
        }
      ]
    },
    {
      "cell_type": "code",
      "source": [
        "x=5\n",
        "y=6\n",
        "z=7\n",
        "def addd(x,y,z):\n",
        "\n",
        "  result=x+y+z\n",
        "  return(result)\n",
        "a=addd(x,y,z)\n",
        "print(a)\n"
      ],
      "metadata": {
        "colab": {
          "base_uri": "https://localhost:8080/"
        },
        "id": "rc6sTA29OYSy",
        "outputId": "5014e9ef-04ed-472f-b70a-d7db5555bce3"
      },
      "execution_count": null,
      "outputs": [
        {
          "output_type": "stream",
          "name": "stdout",
          "text": [
            "18\n"
          ]
        }
      ]
    },
    {
      "cell_type": "code",
      "source": [
        "# we can have multiple return statements in the same function\n",
        "\n",
        "x=-5\n",
        "y=-9\n",
        "z=-8\n",
        "a=-3\n",
        "b=4\n",
        "c=7\n",
        "def negative_sum(x,y,z):\n",
        "  result=x+y+z\n",
        "  if result<0:\n",
        "    return result\n",
        "  \n",
        "  return 1\n",
        "print(negative_sum(x,y,z))\n",
        "print(negative_sum(3,3,3)) # it could be direct value or anything\n",
        "print(negative_sum(a,b,c)) "
      ],
      "metadata": {
        "colab": {
          "base_uri": "https://localhost:8080/"
        },
        "id": "83hkgNfzPjsZ",
        "outputId": "9ca210ef-9e07-466d-f3a4-0c5a3bb50c48"
      },
      "execution_count": null,
      "outputs": [
        {
          "output_type": "stream",
          "name": "stdout",
          "text": [
            "-22\n",
            "1\n",
            "1\n"
          ]
        }
      ]
    },
    {
      "cell_type": "code",
      "source": [
        "def new_range(start,stop,skip):\n",
        "  x=start\n",
        "  while x<stop:\n",
        "    print(x)\n",
        "    x=x+skip\n",
        "    \n",
        "    \n",
        "new_range(1,7,2)"
      ],
      "metadata": {
        "colab": {
          "base_uri": "https://localhost:8080/"
        },
        "id": "6RAilchiQY1g",
        "outputId": "c6ffd1f9-af56-4e78-cb02-1b98d9912bfe"
      },
      "execution_count": null,
      "outputs": [
        {
          "output_type": "stream",
          "name": "stdout",
          "text": [
            "1\n",
            "3\n",
            "5\n"
          ]
        }
      ]
    },
    {
      "cell_type": "code",
      "source": [
        "def new_range(start=5,stop=20,skip=3):\n",
        "  x=start\n",
        "  while x<stop:\n",
        "    print(x)\n",
        "    x=x+skip\n",
        "new_range()"
      ],
      "metadata": {
        "colab": {
          "base_uri": "https://localhost:8080/"
        },
        "id": "Je0AMJW_SWR3",
        "outputId": "ed7aef54-aa4d-498d-d930-4387ea38e197"
      },
      "execution_count": null,
      "outputs": [
        {
          "output_type": "stream",
          "name": "stdout",
          "text": [
            "5\n",
            "8\n",
            "11\n",
            "14\n",
            "17\n"
          ]
        }
      ]
    },
    {
      "cell_type": "code",
      "source": [
        "# we can return it as tuple\n",
        "def tup(x,y):\n",
        "  return x+3,y+3\n",
        "tup(3,3)\n"
      ],
      "metadata": {
        "colab": {
          "base_uri": "https://localhost:8080/"
        },
        "id": "hsZvWvSpSxcP",
        "outputId": "b256f3ac-d2fc-4628-c800-909d6975d5a4"
      },
      "execution_count": null,
      "outputs": [
        {
          "output_type": "execute_result",
          "data": {
            "text/plain": [
              "(6, 6)"
            ]
          },
          "metadata": {},
          "execution_count": 29
        }
      ]
    },
    {
      "cell_type": "code",
      "source": [
        "def tup(x,y):\n",
        "  result= x+3,y+3\n",
        "  return list(result)\n",
        "\n",
        " \n",
        "tup(3,3)\n"
      ],
      "metadata": {
        "colab": {
          "base_uri": "https://localhost:8080/"
        },
        "id": "U3vK0zZSUb0c",
        "outputId": "be1eb783-e79a-4106-b713-a6f2308ef42d"
      },
      "execution_count": null,
      "outputs": [
        {
          "output_type": "execute_result",
          "data": {
            "text/plain": [
              "[6, 6]"
            ]
          },
          "metadata": {},
          "execution_count": 31
        }
      ]
    },
    {
      "cell_type": "code",
      "source": [
        "# remove string 2 chars from string 1\n",
        "def remove_char(string1,string2):\n",
        "  new_string= string1\n",
        "  for char in string2:\n",
        "    new_string=new_string.replace(char,\"\")\n",
        "  return new_string\n",
        "\n",
        "remove_char(\"Hello world\",\"hello\")"
      ],
      "metadata": {
        "colab": {
          "base_uri": "https://localhost:8080/",
          "height": 36
        },
        "id": "xI8xDCKsUjoj",
        "outputId": "c247ba36-89b9-46b0-8b4e-94493c847a34"
      },
      "execution_count": null,
      "outputs": [
        {
          "output_type": "execute_result",
          "data": {
            "text/plain": [
              "'H wrd'"
            ],
            "application/vnd.google.colaboratory.intrinsic+json": {
              "type": "string"
            }
          },
          "metadata": {},
          "execution_count": 32
        }
      ]
    },
    {
      "cell_type": "code",
      "source": [
        "# just to check whether assigning the string one to new variable is necessary\n",
        "def remove_char(string1,string2):\n",
        "\n",
        "  for char in string2:\n",
        "    string1=string1.replace(char,\"\")\n",
        "  return string1\n",
        "\n",
        "remove_char(\"Hello world\",\"hello\")"
      ],
      "metadata": {
        "colab": {
          "base_uri": "https://localhost:8080/",
          "height": 36
        },
        "id": "6fdttJwvVvXb",
        "outputId": "2e26a7f2-5b30-484a-cdc6-a1be2c292404"
      },
      "execution_count": null,
      "outputs": [
        {
          "output_type": "execute_result",
          "data": {
            "text/plain": [
              "'H wrd'"
            ],
            "application/vnd.google.colaboratory.intrinsic+json": {
              "type": "string"
            }
          },
          "metadata": {},
          "execution_count": 33
        }
      ]
    },
    {
      "cell_type": "code",
      "source": [
        "# sum of two lists\n",
        "def sum_list(lst1,lst2):\n",
        "  lst1_sum=sum_lst(lst1)\n",
        "  lst2_sum=sum_lst(lst2)\n",
        "  return lst1_sum,lst2_sum\n",
        "\n",
        "  \n",
        "def sum_lst(lst):\n",
        "  total=0\n",
        "  for i in lst:\n",
        "    total=total+i\n",
        "  return total  \n",
        "\n",
        "sum_list(lst1=[3,2,1],lst2=[1,2,3])"
      ],
      "metadata": {
        "colab": {
          "base_uri": "https://localhost:8080/"
        },
        "id": "qJrc5YPZWBeg",
        "outputId": "082f8550-276d-4871-a79e-43a3b71daffd"
      },
      "execution_count": null,
      "outputs": [
        {
          "output_type": "execute_result",
          "data": {
            "text/plain": [
              "(6, 6)"
            ]
          },
          "metadata": {},
          "execution_count": 37
        }
      ]
    },
    {
      "cell_type": "code",
      "source": [
        "# nested def\n",
        "\n",
        "def sum_lst(lst1,lst2):\n",
        "  def sum_lst1(lst):\n",
        "    total=0\n",
        "    for i in lst:\n",
        "      total=total+i\n",
        "    return total\n",
        "  lst1_sum=sum_lst1(lst1)\n",
        "  lst2_sum=sum_lst1(lst2)\n",
        "  return lst1_sum,lst2_sum\n",
        "\n",
        "sum_lst([3,1,3],[4,1,4])\n",
        "  "
      ],
      "metadata": {
        "colab": {
          "base_uri": "https://localhost:8080/"
        },
        "id": "MU9GDIq1Xa41",
        "outputId": "b8f21197-b14e-448d-cabd-702f8a8db38a"
      },
      "execution_count": null,
      "outputs": [
        {
          "output_type": "execute_result",
          "data": {
            "text/plain": [
              "(7, 9)"
            ]
          },
          "metadata": {},
          "execution_count": 38
        }
      ]
    },
    {
      "cell_type": "code",
      "source": [
        "def find_all_odds(lst):\n",
        "    lst1=[]\n",
        "    for i in (lst):\n",
        "        if i%2!=0:\n",
        "          lst1.append(i)\n",
        "          \n",
        "        else: \n",
        "          pass\n",
        "        \n",
        "    return lst1\n",
        "\n",
        "    # Write your code here.\n",
        "find_all_odds([1,2,3,4,5,6,5,5,3,2])\n",
        "\n"
      ],
      "metadata": {
        "colab": {
          "base_uri": "https://localhost:8080/"
        },
        "id": "bIr217QhZOnD",
        "outputId": "35b887e4-145d-48d3-c321-f7c445df97d0"
      },
      "execution_count": null,
      "outputs": [
        {
          "output_type": "execute_result",
          "data": {
            "text/plain": [
              "[1, 3, 5, 5, 5, 3]"
            ]
          },
          "metadata": {},
          "execution_count": 47
        }
      ]
    },
    {
      "cell_type": "code",
      "source": [
        "def string_lengths(strings):\n",
        "    lst=list(strings)\n",
        "    lst1=[]\n",
        "    for i in lst:\n",
        "      lst2=len(i)\n",
        "      lst1.append(lst2)\n",
        "\n",
        "    return lst1\n",
        "\n",
        "string_lengths((\"hello\",\"this\"))\n"
      ],
      "metadata": {
        "colab": {
          "base_uri": "https://localhost:8080/"
        },
        "id": "OmZT5ikKany-",
        "outputId": "2c2a5b9b-1c26-4c00-8f16-dd9fd0e96ec6"
      },
      "execution_count": null,
      "outputs": [
        {
          "output_type": "execute_result",
          "data": {
            "text/plain": [
              "[5, 4]"
            ]
          },
          "metadata": {},
          "execution_count": 50
        }
      ]
    },
    {
      "cell_type": "code",
      "source": [
        "def compare_lists(lst1=[], lst2=[]):\n",
        "    lst1_set = set(lst1)\n",
        "    lst2_set = set(lst2)\n",
        "    set_intersection = lst1_set.intersection(lst2_set)\n",
        "\n",
        "    return len(set_intersection)\n",
        "compare_lists('hello','hey')"
      ],
      "metadata": {
        "colab": {
          "base_uri": "https://localhost:8080/"
        },
        "id": "L-goEdt2cR7Z",
        "outputId": "fbb158a5-fbfa-4989-d7d7-586dd70cf8d5"
      },
      "execution_count": null,
      "outputs": [
        {
          "output_type": "execute_result",
          "data": {
            "text/plain": [
              "2"
            ]
          },
          "metadata": {},
          "execution_count": 54
        }
      ]
    },
    {
      "cell_type": "code",
      "source": [
        "def trim_list(lst=[True, False, 2.5, 6.2, 9.6, 2, 4], elements_to_trim=2):\n",
        "    trimmed_list = []\n",
        "\n",
        "    for idx in range(len(lst) - elements_to_trim):\n",
        "        element = lst[idx]\n",
        "        trimmed_list.append(element)\n",
        "\n",
        "    return trimmed_list\n",
        "trim_list()"
      ],
      "metadata": {
        "colab": {
          "base_uri": "https://localhost:8080/"
        },
        "id": "TylsesSxs4It",
        "outputId": "3026f258-2c99-4f43-f43a-a5e40809e899"
      },
      "execution_count": null,
      "outputs": [
        {
          "output_type": "execute_result",
          "data": {
            "text/plain": [
              "[True, False, 2.5, 6.2, 9.6]"
            ]
          },
          "metadata": {},
          "execution_count": 62
        }
      ]
    },
    {
      "cell_type": "code",
      "source": [
        "def running_sums(numbers=[1,3,5,7]):\n",
        "  lst=[]\n",
        "  result=0\n",
        "  for i in numbers:\n",
        "    result=result+i\n",
        "   \n",
        "    lst.append(result)\n",
        "  return lst\n",
        "running_sums()"
      ],
      "metadata": {
        "colab": {
          "base_uri": "https://localhost:8080/"
        },
        "id": "jNgZcHkEyKor",
        "outputId": "19dfdced-223f-4d2e-884a-6458b3dc6c47"
      },
      "execution_count": null,
      "outputs": [
        {
          "output_type": "execute_result",
          "data": {
            "text/plain": [
              "[1, 4, 9, 16]"
            ]
          },
          "metadata": {},
          "execution_count": 73
        }
      ]
    },
    {
      "cell_type": "code",
      "source": [
        ""
      ],
      "metadata": {
        "id": "Nx5tlV7v2FT0"
      },
      "execution_count": null,
      "outputs": []
    }
  ]
}