{
  "nbformat": 4,
  "nbformat_minor": 0,
  "metadata": {
    "colab": {
      "name": "misc python.ipynb",
      "provenance": [],
      "authorship_tag": "ABX9TyMsK5/54y8wKukWfWvpq48i"
    },
    "kernelspec": {
      "name": "python3",
      "display_name": "Python 3"
    },
    "language_info": {
      "name": "python"
    }
  },
  "cells": [
    {
      "cell_type": "code",
      "execution_count": 1,
      "metadata": {
        "id": "5B56LThaFfQx"
      },
      "outputs": [],
      "source": [
        "# comprehensions"
      ]
    },
    {
      "cell_type": "code",
      "source": [
        "# if we have to initialise 1,10 randomly we use for loop in traditional method\n",
        "lst=[]\n",
        "for i in range(1,10):\n",
        "  lst.append(i)\n",
        "print(lst)"
      ],
      "metadata": {
        "colab": {
          "base_uri": "https://localhost:8080/"
        },
        "id": "x15W_OGfFnQs",
        "outputId": "6a0614c9-6c8e-46d0-9703-dbf98d49ad6f"
      },
      "execution_count": 8,
      "outputs": [
        {
          "output_type": "stream",
          "name": "stdout",
          "text": [
            "[1, 2, 3, 4, 5, 6, 7, 8, 9]\n"
          ]
        }
      ]
    },
    {
      "cell_type": "code",
      "source": [
        "lst=[x for x in range(10,15)] # for x in range(10,15) would be normal for loop just add x in the begining \n",
        "# is for operation"
      ],
      "metadata": {
        "id": "fRcYlZWHGCgy"
      },
      "execution_count": 6,
      "outputs": []
    },
    {
      "cell_type": "code",
      "source": [
        "lst"
      ],
      "metadata": {
        "colab": {
          "base_uri": "https://localhost:8080/"
        },
        "id": "adwk256AGTe-",
        "outputId": "75ed12b3-e4b3-4808-f4ac-e99dfec75422"
      },
      "execution_count": 7,
      "outputs": [
        {
          "output_type": "execute_result",
          "data": {
            "text/plain": [
              "[10, 11, 12, 13, 14]"
            ]
          },
          "metadata": {},
          "execution_count": 7
        }
      ]
    },
    {
      "cell_type": "code",
      "source": [
        "lst=[x+2 for x in range(10,15)]\n",
        "lst"
      ],
      "metadata": {
        "colab": {
          "base_uri": "https://localhost:8080/"
        },
        "id": "uaB6jEEcGT_j",
        "outputId": "a0dd2ea8-c14c-4fa9-f3c9-d5a624287a76"
      },
      "execution_count": 9,
      "outputs": [
        {
          "output_type": "execute_result",
          "data": {
            "text/plain": [
              "[12, 13, 14, 15, 16]"
            ]
          },
          "metadata": {},
          "execution_count": 9
        }
      ]
    },
    {
      "cell_type": "code",
      "source": [
        "lst=[int(x/2) for x in range(10,15)]\n",
        "lst"
      ],
      "metadata": {
        "colab": {
          "base_uri": "https://localhost:8080/"
        },
        "id": "0AI6E3NeGyHV",
        "outputId": "d1fad970-2066-43ca-e68a-2857e11b6c07"
      },
      "execution_count": 11,
      "outputs": [
        {
          "output_type": "execute_result",
          "data": {
            "text/plain": [
              "[5, 5, 6, 6, 7]"
            ]
          },
          "metadata": {},
          "execution_count": 11
        }
      ]
    },
    {
      "cell_type": "code",
      "source": [
        "lst=[x / 2 for x in range(10,20) if x%2 != 0] # divide only if it is odd\n",
        "lst"
      ],
      "metadata": {
        "colab": {
          "base_uri": "https://localhost:8080/"
        },
        "id": "nNaQJlmtGz5-",
        "outputId": "14f3af0c-80e2-40b0-ba61-1d426dbe41e2"
      },
      "execution_count": 14,
      "outputs": [
        {
          "output_type": "execute_result",
          "data": {
            "text/plain": [
              "[5.5, 6.5, 7.5, 8.5, 9.5]"
            ]
          },
          "metadata": {},
          "execution_count": 14
        }
      ]
    },
    {
      "cell_type": "code",
      "source": [
        "lst=[i*j for i in range(2,5) for j in range(3)]\n",
        "lst"
      ],
      "metadata": {
        "colab": {
          "base_uri": "https://localhost:8080/"
        },
        "id": "55_M-db1HEqN",
        "outputId": "c8cc2c30-3440-4be7-cca5-c71cdf339efe"
      },
      "execution_count": 16,
      "outputs": [
        {
          "output_type": "execute_result",
          "data": {
            "text/plain": [
              "[0, 2, 4, 0, 3, 6, 0, 4, 8]"
            ]
          },
          "metadata": {},
          "execution_count": 16
        }
      ]
    },
    {
      "cell_type": "code",
      "source": [
        "# we cant do it for tuples as it will be created as generator , we have to conevert \n",
        "#it inot tuple after doing with the list\n",
        "# to create for dictionary we have to use :\n",
        "\n",
        "lst={i:j for i in range(2,5) for j in range(3)}\n",
        "lst"
      ],
      "metadata": {
        "colab": {
          "base_uri": "https://localhost:8080/"
        },
        "id": "gUAkeSt1H5mb",
        "outputId": "580236b1-7d32-4fa0-f435-2154699931de"
      },
      "execution_count": 19,
      "outputs": [
        {
          "output_type": "execute_result",
          "data": {
            "text/plain": [
              "{2: 2, 3: 2, 4: 2}"
            ]
          },
          "metadata": {},
          "execution_count": 19
        }
      ]
    },
    {
      "cell_type": "code",
      "source": [
        "# multiple assignments"
      ],
      "metadata": {
        "id": "txWV4AFZIl0K"
      },
      "execution_count": 20,
      "outputs": []
    },
    {
      "cell_type": "code",
      "source": [
        "x=y=1\n",
        "print(x,y)"
      ],
      "metadata": {
        "colab": {
          "base_uri": "https://localhost:8080/"
        },
        "id": "j1Li-PVBI8jo",
        "outputId": "a215595d-b2a8-43aa-ed55-f14dc206b9e1"
      },
      "execution_count": 22,
      "outputs": [
        {
          "output_type": "stream",
          "name": "stdout",
          "text": [
            "1 1\n"
          ]
        }
      ]
    },
    {
      "cell_type": "code",
      "source": [
        "x,y=2,3\n",
        "print(x,y)"
      ],
      "metadata": {
        "colab": {
          "base_uri": "https://localhost:8080/"
        },
        "id": "q5k94kWwI9lc",
        "outputId": "f2022cc2-4569-4d48-8ef2-71a36b533140"
      },
      "execution_count": 23,
      "outputs": [
        {
          "output_type": "stream",
          "name": "stdout",
          "text": [
            "2 3\n"
          ]
        }
      ]
    },
    {
      "cell_type": "code",
      "source": [
        "# unpacking: picking some iterable object over tuple, list and decompse it into individuak\n",
        "x=y=z=3\n",
        "print(x,y,z)\n",
        "x,y,z=[1,2,3]\n",
        "print(x,y,z)"
      ],
      "metadata": {
        "colab": {
          "base_uri": "https://localhost:8080/"
        },
        "id": "nbR-zaRKJLeA",
        "outputId": "b6e48597-ee13-4ee6-f6da-28c5d005d7f8"
      },
      "execution_count": 25,
      "outputs": [
        {
          "output_type": "stream",
          "name": "stdout",
          "text": [
            "3 3 3\n",
            "1 2 3\n"
          ]
        }
      ]
    },
    {
      "cell_type": "code",
      "source": [
        ""
      ],
      "metadata": {
        "id": "MWLAWUtOJrST"
      },
      "execution_count": null,
      "outputs": []
    }
  ]
}