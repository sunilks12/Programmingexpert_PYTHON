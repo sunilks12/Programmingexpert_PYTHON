{
  "nbformat": 4,
  "nbformat_minor": 0,
  "metadata": {
    "colab": {
      "name": "Mutability and SCOPE.ipynb",
      "provenance": [],
      "authorship_tag": "ABX9TyOmco0myGXgJfRUnJg6jhCG"
    },
    "kernelspec": {
      "name": "python3",
      "display_name": "Python 3"
    },
    "language_info": {
      "name": "python"
    }
  },
  "cells": [
    {
      "cell_type": "markdown",
      "source": [
        ""
      ],
      "metadata": {
        "id": "Loni3zBpNtgX"
      }
    },
    {
      "cell_type": "code",
      "execution_count": 2,
      "metadata": {
        "id": "EMSQr5cxNIWa",
        "colab": {
          "base_uri": "https://localhost:8080/"
        },
        "outputId": "a40adc1a-fb18-42ab-8e32-a91c13884af2"
      },
      "outputs": [
        {
          "output_type": "execute_result",
          "data": {
            "text/plain": [
              "set"
            ]
          },
          "metadata": {},
          "execution_count": 2
        }
      ],
      "source": [
        "# immutable data type in python\n",
        "int\n",
        "bool\n",
        "str\n",
        "float\n",
        "tuple\n",
        "# immutable\n",
        "list\n",
        "dict\n",
        "set"
      ]
    },
    {
      "cell_type": "code",
      "source": [
        "x=[]\n",
        "y=[]\n",
        "x is y"
      ],
      "metadata": {
        "colab": {
          "base_uri": "https://localhost:8080/"
        },
        "id": "k1mYEO-2Nulq",
        "outputId": "e12aa7ab-a4bf-4b34-985e-15f4ec9e10a7"
      },
      "execution_count": 3,
      "outputs": [
        {
          "output_type": "execute_result",
          "data": {
            "text/plain": [
              "False"
            ]
          },
          "metadata": {},
          "execution_count": 3
        }
      ]
    },
    {
      "cell_type": "code",
      "source": [
        "x==y"
      ],
      "metadata": {
        "colab": {
          "base_uri": "https://localhost:8080/"
        },
        "id": "l_2sv1xFOj0N",
        "outputId": "48e6ad35-22ed-45b8-9c93-d7291979147b"
      },
      "execution_count": 4,
      "outputs": [
        {
          "output_type": "execute_result",
          "data": {
            "text/plain": [
              "True"
            ]
          },
          "metadata": {},
          "execution_count": 4
        }
      ]
    },
    {
      "cell_type": "code",
      "source": [
        "x=[]\n",
        "y=x\n",
        "x is y"
      ],
      "metadata": {
        "colab": {
          "base_uri": "https://localhost:8080/"
        },
        "id": "sQDvIOhwOpe7",
        "outputId": "d409030a-a224-4992-862e-7a9398935e62"
      },
      "execution_count": 5,
      "outputs": [
        {
          "output_type": "execute_result",
          "data": {
            "text/plain": [
              "True"
            ]
          },
          "metadata": {},
          "execution_count": 5
        }
      ]
    },
    {
      "cell_type": "code",
      "source": [
        "# changing a shouldnt change b\n",
        "a=[1,2,3]\n",
        "b=a[:]\n",
        "print(a)\n",
        "print(b)\n",
        "a is b"
      ],
      "metadata": {
        "colab": {
          "base_uri": "https://localhost:8080/"
        },
        "id": "MTMO8kSjOtnV",
        "outputId": "a21bc294-17b1-48be-8c1d-eb1288688f04"
      },
      "execution_count": 6,
      "outputs": [
        {
          "output_type": "stream",
          "name": "stdout",
          "text": [
            "[1, 2, 3]\n",
            "[1, 2, 3]\n"
          ]
        },
        {
          "output_type": "execute_result",
          "data": {
            "text/plain": [
              "False"
            ]
          },
          "metadata": {},
          "execution_count": 6
        }
      ]
    },
    {
      "cell_type": "code",
      "source": [
        "lst=[1,2,3]\n",
        "d={1:lst}\n",
        "lst.append(4)\n",
        "print(d)\n",
        "print(lst)"
      ],
      "metadata": {
        "colab": {
          "base_uri": "https://localhost:8080/"
        },
        "id": "vdswg0hzQw2O",
        "outputId": "9051a557-9ea4-44b1-cc3e-3e38f01838e3"
      },
      "execution_count": 10,
      "outputs": [
        {
          "output_type": "stream",
          "name": "stdout",
          "text": [
            "{1: [1, 2, 3, 4]}\n",
            "[1, 2, 3, 4]\n"
          ]
        }
      ]
    },
    {
      "cell_type": "code",
      "source": [
        "# changing list inside immutable object tuple\n",
        "a=[1,2]\n",
        "b=[3,2]\n",
        "tup=(a,b)\n",
        "a.append(3)\n",
        "tup"
      ],
      "metadata": {
        "colab": {
          "base_uri": "https://localhost:8080/"
        },
        "id": "u7G5rsVNRmgc",
        "outputId": "e0cef4da-d4b0-46b4-95e3-8ddcd05fba44"
      },
      "execution_count": 12,
      "outputs": [
        {
          "output_type": "execute_result",
          "data": {
            "text/plain": [
              "([1, 2, 3], [3, 2])"
            ]
          },
          "metadata": {},
          "execution_count": 12
        }
      ]
    },
    {
      "cell_type": "code",
      "source": [
        "def replace(lst, target, swap_value):\n",
        "    for idx in range(len(lst)):\n",
        "        element=lst[idx]\n",
        "\n",
        "        if element==target:\n",
        "            lst[idx]=swap_value\n",
        "    pass\n"
      ],
      "metadata": {
        "id": "_sOYurBySU_u"
      },
      "execution_count": 25,
      "outputs": []
    },
    {
      "cell_type": "code",
      "source": [
        "x = []\n",
        "\n",
        "def foo(y):\n",
        "    y.append(1)\n",
        "    y = [2]\n",
        "\n",
        "foo(x)\n",
        "print(x)\n",
        "\n"
      ],
      "metadata": {
        "colab": {
          "base_uri": "https://localhost:8080/"
        },
        "id": "i2buS6CNUkD0",
        "outputId": "e69c8e9a-9576-4921-b4be-ca671aad7daa"
      },
      "execution_count": 26,
      "outputs": [
        {
          "output_type": "stream",
          "name": "stdout",
          "text": [
            "[1]\n"
          ]
        }
      ]
    },
    {
      "cell_type": "code",
      "source": [
        "x = \"global\"\n",
        "\n",
        "def foo():\n",
        "    global x\n",
        "    print(x, end=\",\")\n",
        "    x = \"local\"\n",
        "    print(x, end=\",\")\n",
        "\n",
        "foo()\n",
        "print(x, end=\"\")"
      ],
      "metadata": {
        "colab": {
          "base_uri": "https://localhost:8080/"
        },
        "id": "mOh6ArNjUwpP",
        "outputId": "caa5ef9b-e1f6-4142-8691-97b1e8c9b2b5"
      },
      "execution_count": 27,
      "outputs": [
        {
          "output_type": "stream",
          "name": "stdout",
          "text": [
            "global,local,local"
          ]
        }
      ]
    },
    {
      "cell_type": "code",
      "source": [
        "def add_5(x):\n",
        "  x=x+5\n",
        "  print(x)\n",
        "x=10\n",
        "print(x)\n",
        "add_5(x)\n",
        "print(x)\n",
        "add_5(x)"
      ],
      "metadata": {
        "colab": {
          "base_uri": "https://localhost:8080/"
        },
        "id": "06mFJD_qWodO",
        "outputId": "3f8d9408-b71f-415a-af34-71c6da582be0"
      },
      "execution_count": 29,
      "outputs": [
        {
          "output_type": "stream",
          "name": "stdout",
          "text": [
            "10\n",
            "15\n",
            "10\n",
            "15\n"
          ]
        }
      ]
    },
    {
      "cell_type": "code",
      "source": [
        "# remember last lesson that if we are using list now and uses same x it changes outside function as well\n",
        "def append_5(x):\n",
        "  x.append(5)\n",
        "  print(x)\n",
        "\n",
        "x=[]\n",
        "print(x)\n",
        "append_5(x)\n",
        "print(x)\n",
        "append_5(x)\n",
        "print(x)"
      ],
      "metadata": {
        "colab": {
          "base_uri": "https://localhost:8080/"
        },
        "id": "m6duBnLjYQKg",
        "outputId": "9ab07c17-b500-4c6e-ee45-1acab40f19c6"
      },
      "execution_count": 33,
      "outputs": [
        {
          "output_type": "stream",
          "name": "stdout",
          "text": [
            "[]\n",
            "[5]\n",
            "[5]\n",
            "[5, 5]\n",
            "[5, 5]\n"
          ]
        }
      ]
    },
    {
      "cell_type": "code",
      "source": [
        "# to tackle above problem we can assign the slice\n",
        "def append_5(x):\n",
        "  x=x[:]\n",
        "  x.append(5)\n",
        "  print(x)\n",
        "\n",
        "x=[]\n",
        "print(x)\n",
        "append_5(x)\n",
        "print(x)\n",
        "append_5(x)\n",
        "print(x)"
      ],
      "metadata": {
        "colab": {
          "base_uri": "https://localhost:8080/"
        },
        "id": "sAQzcnMpZJEZ",
        "outputId": "be8f6fff-4ee5-4968-c5f4-1252cd4e9c4f"
      },
      "execution_count": 34,
      "outputs": [
        {
          "output_type": "stream",
          "name": "stdout",
          "text": [
            "[]\n",
            "[5]\n",
            "[]\n",
            "[5]\n",
            "[]\n"
          ]
        }
      ]
    },
    {
      "cell_type": "code",
      "source": [
        "value=5\n",
        "\n",
        "def foo():\n",
        "  value=10\n",
        "print(value)\n",
        "foo() # returns nothing\n",
        "print(value)"
      ],
      "metadata": {
        "colab": {
          "base_uri": "https://localhost:8080/"
        },
        "id": "AaoxhnVvZ0DT",
        "outputId": "dbdd00db-21b7-45b3-fb92-ae40420b9b64"
      },
      "execution_count": 35,
      "outputs": [
        {
          "output_type": "stream",
          "name": "stdout",
          "text": [
            "5\n",
            "5\n"
          ]
        }
      ]
    },
    {
      "cell_type": "code",
      "source": [
        "value=5\n",
        "\n",
        "def foo():\n",
        "  global value\n",
        "  value=10\n",
        "print(value)\n",
        "foo() # returns nothing\n",
        "print(value)"
      ],
      "metadata": {
        "colab": {
          "base_uri": "https://localhost:8080/"
        },
        "id": "VFgxjZTgaNsR",
        "outputId": "37b54ce4-fe02-47c5-a1ac-bf1326c4f6fd"
      },
      "execution_count": 36,
      "outputs": [
        {
          "output_type": "stream",
          "name": "stdout",
          "text": [
            "5\n",
            "10\n"
          ]
        }
      ]
    },
    {
      "cell_type": "code",
      "source": [
        ""
      ],
      "metadata": {
        "id": "I_4-GfU-aSio"
      },
      "execution_count": null,
      "outputs": []
    }
  ]
}