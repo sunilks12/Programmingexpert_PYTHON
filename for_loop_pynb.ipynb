{
  "nbformat": 4,
  "nbformat_minor": 0,
  "metadata": {
    "colab": {
      "name": "for loop.pynb",
      "provenance": [],
      "collapsed_sections": [],
      "authorship_tag": "ABX9TyMELSJoUNma2qN9QwK1PN8J"
    },
    "kernelspec": {
      "name": "python3",
      "display_name": "Python 3"
    },
    "language_info": {
      "name": "python"
    }
  },
  "cells": [
    {
      "cell_type": "code",
      "execution_count": null,
      "metadata": {
        "colab": {
          "base_uri": "https://localhost:8080/"
        },
        "id": "37aEjdepXjXN",
        "outputId": "1ade171d-6dac-41d5-8c39-e591c3aba546"
      },
      "outputs": [
        {
          "output_type": "stream",
          "name": "stdout",
          "text": [
            "5\n",
            "7\n",
            "9\n",
            "11\n",
            "13\n",
            "15\n",
            "17\n",
            "19\n",
            "21\n"
          ]
        }
      ],
      "source": [
        "for i in range(5,23,2):\n",
        "  print(i)\n"
      ]
    },
    {
      "cell_type": "code",
      "source": [
        "# add all numbers\n",
        "result=0\n",
        "for i in range(1,11):\n",
        "  result=result+i\n",
        "print(result)\n"
      ],
      "metadata": {
        "colab": {
          "base_uri": "https://localhost:8080/"
        },
        "id": "o2kjTcR0Xvz6",
        "outputId": "45bbf563-9c5d-46ab-df6a-76a805364143"
      },
      "execution_count": null,
      "outputs": [
        {
          "output_type": "stream",
          "name": "stdout",
          "text": [
            "55\n"
          ]
        }
      ]
    },
    {
      "cell_type": "code",
      "source": [
        "#iterating through list\n",
        "# iterating by index (i)\n",
        "lst=[1,2,3,4,5,6,True, False]\n",
        "for i in range(8):\n",
        "  print(lst[i])\n",
        "print('----------------------------------')\n",
        "# so now we will get all the output since range is hard coded, if any new element is added or deleted we get an error that is why we use len function\n",
        "#iterating through list\n",
        "lst=[1,2,3,4,5,6,True]\n",
        "for i in range(8):\n",
        "  print(lst[i])\n",
        "\n",
        "print('----------------------------------')\n",
        "\n",
        "\n"
      ],
      "metadata": {
        "colab": {
          "base_uri": "https://localhost:8080/",
          "height": 523
        },
        "id": "u-_ZiTkcYydp",
        "outputId": "0015bb14-82e8-4b9f-91df-1587af6e12e2"
      },
      "execution_count": null,
      "outputs": [
        {
          "output_type": "stream",
          "name": "stdout",
          "text": [
            "1\n",
            "2\n",
            "3\n",
            "4\n",
            "5\n",
            "6\n",
            "True\n",
            "False\n",
            "----------------------------------\n",
            "1\n",
            "2\n",
            "3\n",
            "4\n",
            "5\n",
            "6\n",
            "True\n"
          ]
        },
        {
          "output_type": "error",
          "ename": "IndexError",
          "evalue": "ignored",
          "traceback": [
            "\u001b[0;31m---------------------------------------------------------------------------\u001b[0m",
            "\u001b[0;31mIndexError\u001b[0m                                Traceback (most recent call last)",
            "\u001b[0;32m<ipython-input-16-d7a17036bd22>\u001b[0m in \u001b[0;36m<module>\u001b[0;34m()\u001b[0m\n\u001b[1;32m      8\u001b[0m \u001b[0mlst\u001b[0m\u001b[0;34m=\u001b[0m\u001b[0;34m[\u001b[0m\u001b[0;36m1\u001b[0m\u001b[0;34m,\u001b[0m\u001b[0;36m2\u001b[0m\u001b[0;34m,\u001b[0m\u001b[0;36m3\u001b[0m\u001b[0;34m,\u001b[0m\u001b[0;36m4\u001b[0m\u001b[0;34m,\u001b[0m\u001b[0;36m5\u001b[0m\u001b[0;34m,\u001b[0m\u001b[0;36m6\u001b[0m\u001b[0;34m,\u001b[0m\u001b[0;32mTrue\u001b[0m\u001b[0;34m]\u001b[0m\u001b[0;34m\u001b[0m\u001b[0;34m\u001b[0m\u001b[0m\n\u001b[1;32m      9\u001b[0m \u001b[0;32mfor\u001b[0m \u001b[0mi\u001b[0m \u001b[0;32min\u001b[0m \u001b[0mrange\u001b[0m\u001b[0;34m(\u001b[0m\u001b[0;36m8\u001b[0m\u001b[0;34m)\u001b[0m\u001b[0;34m:\u001b[0m\u001b[0;34m\u001b[0m\u001b[0;34m\u001b[0m\u001b[0m\n\u001b[0;32m---> 10\u001b[0;31m   \u001b[0mprint\u001b[0m\u001b[0;34m(\u001b[0m\u001b[0mlst\u001b[0m\u001b[0;34m[\u001b[0m\u001b[0mi\u001b[0m\u001b[0;34m]\u001b[0m\u001b[0;34m)\u001b[0m\u001b[0;34m\u001b[0m\u001b[0;34m\u001b[0m\u001b[0m\n\u001b[0m\u001b[1;32m     11\u001b[0m \u001b[0;34m\u001b[0m\u001b[0m\n\u001b[1;32m     12\u001b[0m \u001b[0mprint\u001b[0m\u001b[0;34m(\u001b[0m\u001b[0;34m'----------------------------------'\u001b[0m\u001b[0;34m)\u001b[0m\u001b[0;34m\u001b[0m\u001b[0;34m\u001b[0m\u001b[0m\n",
            "\u001b[0;31mIndexError\u001b[0m: list index out of range"
          ]
        }
      ]
    },
    {
      "cell_type": "code",
      "source": [
        "for i in range(len(lst)):\n",
        "  print(lst[i])\n"
      ],
      "metadata": {
        "colab": {
          "base_uri": "https://localhost:8080/"
        },
        "id": "GF9-eENPZ1Ud",
        "outputId": "c70f9df5-e5cc-4492-b783-742a3bae0275"
      },
      "execution_count": null,
      "outputs": [
        {
          "output_type": "stream",
          "name": "stdout",
          "text": [
            "1\n",
            "2\n",
            "3\n",
            "4\n",
            "5\n",
            "6\n",
            "True\n"
          ]
        }
      ]
    },
    {
      "cell_type": "code",
      "source": [
        "# Now we can iterate through direct elements in the list as list , tuples and all are collection of elements and iterable\n",
        "# if we use this method we won't be having access to the index \n",
        "for elements in lst: # its called iterating through items\n",
        "  print(elements)"
      ],
      "metadata": {
        "colab": {
          "base_uri": "https://localhost:8080/"
        },
        "id": "fukG468KarvQ",
        "outputId": "17bdcb54-5957-4332-a252-f18bcd84a96b"
      },
      "execution_count": null,
      "outputs": [
        {
          "output_type": "stream",
          "name": "stdout",
          "text": [
            "1\n",
            "2\n",
            "3\n",
            "4\n",
            "5\n",
            "6\n",
            "True\n"
          ]
        }
      ]
    },
    {
      "cell_type": "code",
      "source": [
        "# We can get both index and elements with enumerate keyword\n",
        "for indx,element in enumerate(lst):\n",
        "  print(indx,element)"
      ],
      "metadata": {
        "colab": {
          "base_uri": "https://localhost:8080/"
        },
        "id": "VBhNYFsCcf3m",
        "outputId": "cbf9c224-cfe2-4b58-ce4d-c3fb87e606d4"
      },
      "execution_count": null,
      "outputs": [
        {
          "output_type": "stream",
          "name": "stdout",
          "text": [
            "0 1\n",
            "1 2\n",
            "2 3\n",
            "3 4\n",
            "4 5\n",
            "5 6\n",
            "6 True\n"
          ]
        }
      ]
    },
    {
      "cell_type": "code",
      "source": [
        "# Iterating through tuples\n",
        "tup=(1,2,3,4,\"Hello\",\"Tim\", False)\n",
        "\n",
        "for i in range(len(tup)):\n",
        "  element=tup[i]\n",
        "  print(element)\n",
        "print(\"+++++++++++++++++++++++++++++++++\")\n",
        "for indx,element in enumerate(tup):\n",
        "  print(indx,element)"
      ],
      "metadata": {
        "colab": {
          "base_uri": "https://localhost:8080/"
        },
        "id": "4oFnsr5xdEVy",
        "outputId": "102c2758-9c19-42a8-dd51-0d6f724556d2"
      },
      "execution_count": null,
      "outputs": [
        {
          "output_type": "stream",
          "name": "stdout",
          "text": [
            "1\n",
            "2\n",
            "3\n",
            "4\n",
            "Hello\n",
            "Tim\n",
            "False\n",
            "+++++++++++++++++++++++++++++++++\n",
            "0 1\n",
            "1 2\n",
            "2 3\n",
            "3 4\n",
            "4 Hello\n",
            "5 Tim\n",
            "6 False\n"
          ]
        }
      ]
    },
    {
      "cell_type": "code",
      "source": [
        "# Iterating through strings\n",
        "s=\"Hello How\"\n",
        "for i in range(len(s)):\n",
        "  print(s[i])\n",
        "print('===============')\n",
        "print('++++++++++++++++++++')\n",
        "# iccase you want to do for few characters\n",
        "for i in range(5):\n",
        "  print(s[i])"
      ],
      "metadata": {
        "colab": {
          "base_uri": "https://localhost:8080/"
        },
        "id": "FFWHwfnteDn1",
        "outputId": "bd40dc9f-e94a-4bfe-ae73-9c473c81a456"
      },
      "execution_count": null,
      "outputs": [
        {
          "output_type": "stream",
          "name": "stdout",
          "text": [
            "H\n",
            "e\n",
            "l\n",
            "l\n",
            "o\n",
            " \n",
            "H\n",
            "o\n",
            "w\n",
            "===============\n",
            "++++++++++++++++++++\n",
            "H\n",
            "e\n",
            "l\n",
            "l\n",
            "o\n"
          ]
        }
      ]
    },
    {
      "cell_type": "code",
      "source": [
        "# stop the loop using break keyword when it finds 4\n",
        "lst=[1,2,3,3,3,5,6,4,3,2]\n",
        "for num in lst:\n",
        "  if num == 4:\n",
        "    break\n",
        "  print(num)\n",
        "print('done')"
      ],
      "metadata": {
        "colab": {
          "base_uri": "https://localhost:8080/"
        },
        "id": "zwPje_D7erND",
        "outputId": "4f9dcd62-dd49-425d-9d06-25fb0d766caa"
      },
      "execution_count": null,
      "outputs": [
        {
          "output_type": "stream",
          "name": "stdout",
          "text": [
            "1\n",
            "2\n",
            "3\n",
            "3\n",
            "3\n",
            "5\n",
            "6\n",
            "done\n"
          ]
        }
      ]
    },
    {
      "cell_type": "code",
      "source": [
        "# when we use continue, it stops at that condition and skips it and continue with the next iteration\n",
        "# check for 4 now\n",
        "\n",
        "lst=[1,2,5,6,7,8,9,4,6,4,5,4,7]\n",
        "for num in lst:\n",
        "  if num==4:\n",
        "    continue\n",
        "  print(num)\n",
        "print('done')"
      ],
      "metadata": {
        "colab": {
          "base_uri": "https://localhost:8080/"
        },
        "id": "uZvzQtK1gKoT",
        "outputId": "33161a7e-4a09-499f-8427-330daeca48ac"
      },
      "execution_count": null,
      "outputs": [
        {
          "output_type": "stream",
          "name": "stdout",
          "text": [
            "1\n",
            "2\n",
            "5\n",
            "6\n",
            "7\n",
            "8\n",
            "9\n",
            "6\n",
            "5\n",
            "7\n",
            "done\n"
          ]
        }
      ]
    },
    {
      "cell_type": "code",
      "source": [
        "# nested for loops\n",
        "lst=[9,10]\n",
        "first=[2,3,4,5]\n",
        "second=[6,7,8]\n",
        "for i in first: # i=0 then goes to j=0 then w \n",
        "  for j in second:\n",
        "    for w in lst:\n",
        "      print(i,j,w)"
      ],
      "metadata": {
        "colab": {
          "base_uri": "https://localhost:8080/"
        },
        "id": "oaUB2wq-hTSA",
        "outputId": "f0dd8631-5af2-4fd4-d604-f9b6fb7f0cd8"
      },
      "execution_count": null,
      "outputs": [
        {
          "output_type": "stream",
          "name": "stdout",
          "text": [
            "2 6 9\n",
            "2 6 10\n",
            "2 7 9\n",
            "2 7 10\n",
            "2 8 9\n",
            "2 8 10\n",
            "3 6 9\n",
            "3 6 10\n",
            "3 7 9\n",
            "3 7 10\n",
            "3 8 9\n",
            "3 8 10\n",
            "4 6 9\n",
            "4 6 10\n",
            "4 7 9\n",
            "4 7 10\n",
            "4 8 9\n",
            "4 8 10\n",
            "5 6 9\n",
            "5 6 10\n",
            "5 7 9\n",
            "5 7 10\n",
            "5 8 9\n",
            "5 8 10\n"
          ]
        }
      ]
    },
    {
      "cell_type": "code",
      "source": [
        "# nested loop through list\n",
        "lst=[[1,2],[3,4],[5,6],[7,8]]\n",
        "for i in range(len(lst)):\n",
        "  interior_lst= lst[i]\n",
        "\n",
        "  for j in range(len(interior_lst)):\n",
        "    print(interior_lst[j])"
      ],
      "metadata": {
        "colab": {
          "base_uri": "https://localhost:8080/"
        },
        "id": "evb8qm7zi-Cr",
        "outputId": "ea3e4aa7-4a5b-44c7-c058-1b18166e47b0"
      },
      "execution_count": null,
      "outputs": [
        {
          "output_type": "stream",
          "name": "stdout",
          "text": [
            "1\n",
            "2\n",
            "3\n",
            "4\n",
            "5\n",
            "6\n",
            "7\n",
            "8\n"
          ]
        }
      ]
    },
    {
      "cell_type": "code",
      "source": [
        "lst=[[1,2,[10,11],90],[3,4],[5,6],[7,8]]\n",
        "s=[]\n",
        "for i in range(len(lst)):\n",
        "  interior_lst= lst[i]\n",
        "\n",
        "  for j in range(len(interior_lst)):\n",
        "    first_lst=interior_lst[j]\n",
        "    s.append(first_lst)\n",
        "\n",
        "\n",
        "\n",
        "\n",
        "\n",
        "\n",
        "  "
      ],
      "metadata": {
        "id": "RaYMciZlkoyd"
      },
      "execution_count": null,
      "outputs": []
    },
    {
      "cell_type": "code",
      "source": [
        "s"
      ],
      "metadata": {
        "colab": {
          "base_uri": "https://localhost:8080/"
        },
        "id": "nMjHVces__22",
        "outputId": "000d8abc-9f16-462b-ece3-fee1acf360dc"
      },
      "execution_count": null,
      "outputs": [
        {
          "output_type": "execute_result",
          "data": {
            "text/plain": [
              "[1, 2, [10, 11], 90, 3, 4, 5, 6, 7, 8]"
            ]
          },
          "metadata": {},
          "execution_count": 93
        }
      ]
    },
    {
      "cell_type": "code",
      "source": [
        "lst=[1, 2, [10, 11], 90, 3, 4, 5, 6, 7, 8]\n",
        "s=[]\n",
        "for i in lst:\n",
        "  #interior_lst= lst[i]\n",
        "  for j in i:\n",
        "    print(j)\n"
      ],
      "metadata": {
        "colab": {
          "base_uri": "https://localhost:8080/",
          "height": 221
        },
        "id": "TASk2jt4AEzy",
        "outputId": "a3a0c2e9-8bd5-45ad-85bc-209783759a4c"
      },
      "execution_count": null,
      "outputs": [
        {
          "output_type": "error",
          "ename": "TypeError",
          "evalue": "ignored",
          "traceback": [
            "\u001b[0;31m---------------------------------------------------------------------------\u001b[0m",
            "\u001b[0;31mTypeError\u001b[0m                                 Traceback (most recent call last)",
            "\u001b[0;32m<ipython-input-97-277d4129b88e>\u001b[0m in \u001b[0;36m<module>\u001b[0;34m()\u001b[0m\n\u001b[1;32m      3\u001b[0m \u001b[0;32mfor\u001b[0m \u001b[0mi\u001b[0m \u001b[0;32min\u001b[0m \u001b[0mlst\u001b[0m\u001b[0;34m:\u001b[0m\u001b[0;34m\u001b[0m\u001b[0;34m\u001b[0m\u001b[0m\n\u001b[1;32m      4\u001b[0m   \u001b[0;31m#interior_lst= lst[i]\u001b[0m\u001b[0;34m\u001b[0m\u001b[0;34m\u001b[0m\u001b[0;34m\u001b[0m\u001b[0m\n\u001b[0;32m----> 5\u001b[0;31m   \u001b[0;32mfor\u001b[0m \u001b[0mj\u001b[0m \u001b[0;32min\u001b[0m \u001b[0mi\u001b[0m\u001b[0;34m:\u001b[0m\u001b[0;34m\u001b[0m\u001b[0;34m\u001b[0m\u001b[0m\n\u001b[0m\u001b[1;32m      6\u001b[0m     \u001b[0mprint\u001b[0m\u001b[0;34m(\u001b[0m\u001b[0mj\u001b[0m\u001b[0;34m)\u001b[0m\u001b[0;34m\u001b[0m\u001b[0;34m\u001b[0m\u001b[0m\n",
            "\u001b[0;31mTypeError\u001b[0m: 'int' object is not iterable"
          ]
        }
      ]
    },
    {
      "cell_type": "code",
      "source": [
        "type(s)"
      ],
      "metadata": {
        "colab": {
          "base_uri": "https://localhost:8080/"
        },
        "id": "Tojk8vWN_z3Z",
        "outputId": "f85aae5e-1b07-4649-a367-cee2cf15b851"
      },
      "execution_count": null,
      "outputs": [
        {
          "output_type": "execute_result",
          "data": {
            "text/plain": [
              "list"
            ]
          },
          "metadata": {},
          "execution_count": 92
        }
      ]
    },
    {
      "cell_type": "code",
      "source": [
        "for k in range(len(s)):\n",
        "  f=s[k]\n",
        "  \n",
        "  for h in range(len(f)):\n",
        "    print(f[h])\n"
      ],
      "metadata": {
        "colab": {
          "base_uri": "https://localhost:8080/",
          "height": 221
        },
        "id": "3Vf6Udps-qA3",
        "outputId": "68f7f473-aeeb-46dc-eabb-692a0f95a3f2"
      },
      "execution_count": null,
      "outputs": [
        {
          "output_type": "error",
          "ename": "TypeError",
          "evalue": "ignored",
          "traceback": [
            "\u001b[0;31m---------------------------------------------------------------------------\u001b[0m",
            "\u001b[0;31mTypeError\u001b[0m                                 Traceback (most recent call last)",
            "\u001b[0;32m<ipython-input-91-d66d1e95236a>\u001b[0m in \u001b[0;36m<module>\u001b[0;34m()\u001b[0m\n\u001b[1;32m      2\u001b[0m   \u001b[0mf\u001b[0m\u001b[0;34m=\u001b[0m\u001b[0ms\u001b[0m\u001b[0;34m[\u001b[0m\u001b[0mk\u001b[0m\u001b[0;34m]\u001b[0m\u001b[0;34m\u001b[0m\u001b[0;34m\u001b[0m\u001b[0m\n\u001b[1;32m      3\u001b[0m \u001b[0;34m\u001b[0m\u001b[0m\n\u001b[0;32m----> 4\u001b[0;31m   \u001b[0;32mfor\u001b[0m \u001b[0mh\u001b[0m \u001b[0;32min\u001b[0m \u001b[0mrange\u001b[0m\u001b[0;34m(\u001b[0m\u001b[0mlen\u001b[0m\u001b[0;34m(\u001b[0m\u001b[0mf\u001b[0m\u001b[0;34m)\u001b[0m\u001b[0;34m)\u001b[0m\u001b[0;34m:\u001b[0m\u001b[0;34m\u001b[0m\u001b[0;34m\u001b[0m\u001b[0m\n\u001b[0m\u001b[1;32m      5\u001b[0m     \u001b[0mprint\u001b[0m\u001b[0;34m(\u001b[0m\u001b[0mf\u001b[0m\u001b[0;34m[\u001b[0m\u001b[0mh\u001b[0m\u001b[0;34m]\u001b[0m\u001b[0;34m)\u001b[0m\u001b[0;34m\u001b[0m\u001b[0;34m\u001b[0m\u001b[0m\n",
            "\u001b[0;31mTypeError\u001b[0m: object of type 'int' has no len()"
          ]
        }
      ]
    },
    {
      "cell_type": "code",
      "source": [
        "# chech the index of a\n",
        "st=\"Hello how are you\"\n",
        "for i,j in enumerate(st):\n",
        "  if j =='o' and i<5:\n",
        "    print(i)"
      ],
      "metadata": {
        "colab": {
          "base_uri": "https://localhost:8080/"
        },
        "id": "JncZq_1tk-1u",
        "outputId": "d9e6ddd3-ee33-42d3-904d-0a61ad53c0a8"
      },
      "execution_count": null,
      "outputs": [
        {
          "output_type": "stream",
          "name": "stdout",
          "text": [
            "4\n"
          ]
        }
      ]
    },
    {
      "cell_type": "code",
      "source": [
        " # ask the user to enter the number and add it to the list\n",
        " lst=[]\n",
        " for i in range(3):\n",
        "   num=int(input(\"Enter a number: \"))\n",
        "   lst.append(num)\n",
        "print(lst)"
      ],
      "metadata": {
        "colab": {
          "base_uri": "https://localhost:8080/"
        },
        "id": "mQBKndfImtK5",
        "outputId": "b1341371-c30d-46c8-d211-6cfee7b278e8"
      },
      "execution_count": null,
      "outputs": [
        {
          "output_type": "stream",
          "name": "stdout",
          "text": [
            "Enter a number: 3\n",
            "Enter a number: 4\n",
            "Enter a number: 5\n",
            "[3, 4, 5]\n"
          ]
        }
      ]
    },
    {
      "cell_type": "code",
      "source": [
        "# pass is like it just sits and do nothing \n",
        "# also when you dont want some line throw error and acts as placeholder \n",
        "#first one does not throw error , second one does\n",
        "\n",
        "for i in range(10):\n",
        "  pass\n",
        "\n",
        "for i range(3):\n"
      ],
      "metadata": {
        "colab": {
          "base_uri": "https://localhost:8080/",
          "height": 132
        },
        "id": "7fYbi5RSpMW0",
        "outputId": "dddc3d6e-ad46-4a9d-e2d2-6b13fa6e0938"
      },
      "execution_count": null,
      "outputs": [
        {
          "output_type": "error",
          "ename": "SyntaxError",
          "evalue": "ignored",
          "traceback": [
            "\u001b[0;36m  File \u001b[0;32m\"<ipython-input-98-7378c391b6ad>\"\u001b[0;36m, line \u001b[0;32m7\u001b[0m\n\u001b[0;31m    for i range(3):\u001b[0m\n\u001b[0m              ^\u001b[0m\n\u001b[0;31mSyntaxError\u001b[0m\u001b[0;31m:\u001b[0m invalid syntax\n"
          ]
        }
      ]
    },
    {
      "cell_type": "code",
      "source": [
        "words=(\"hello\",\"how\",\"are\",\"you\",\"learn\")\n",
        "target=\"you\"\n",
        "for i in words:\n",
        "  if i==target:\n",
        "    print(\"I found the answer\")\n",
        "  else:\n",
        "    print(\"I did not find the target\")\n",
        "\n",
        "# Now this output prints i did not find for non answers so use boolean \n",
        "\n",
        "found=False\n",
        "words=(\"hello\",\"how\",\"are\",\"you\",\"learn\")\n",
        "target=\"you\"\n",
        "for i in words:\n",
        "  if i==target:\n",
        "    print(\"I found the answer\")\n",
        "    found=True\n",
        "    \n",
        "\n",
        "if not found: # since it is boolean we can use not  \n",
        "    print(\"I did not find the target\")\n",
        "\n",
        "\n",
        "# even break can be used with for-else statement\n",
        "\n",
        "\n",
        "words=(\"hello\",\"how\",\"are\",\"you\",\"learn\")\n",
        "target=\"n\"\n",
        "for i in words:\n",
        "  if i==target:\n",
        "    print(\"I found the answer\")\n",
        "    break\n",
        "else:\n",
        "    print(\"I did not find the target\")"
      ],
      "metadata": {
        "colab": {
          "base_uri": "https://localhost:8080/"
        },
        "id": "kdViq7nVUiKj",
        "outputId": "7dca55fa-95b8-4f4e-90a6-a5ef143debae"
      },
      "execution_count": null,
      "outputs": [
        {
          "output_type": "stream",
          "name": "stdout",
          "text": [
            "I did not find the target\n",
            "I did not find the target\n",
            "I did not find the target\n",
            "I found the answer\n",
            "I did not find the target\n",
            "I found the answer\n",
            "I did not find the target\n"
          ]
        }
      ]
    },
    {
      "cell_type": "code",
      "source": [
        "for idx in range(10, -1, -3):\n",
        "    print(idx, end=\",\")"
      ],
      "metadata": {
        "colab": {
          "base_uri": "https://localhost:8080/"
        },
        "id": "1CPX-uyhVqUM",
        "outputId": "a4d3e5cc-abc1-42d4-a1a3-19cba7d69793"
      },
      "execution_count": null,
      "outputs": [
        {
          "output_type": "stream",
          "name": "stdout",
          "text": [
            "10,7,4,1,"
          ]
        }
      ]
    },
    {
      "cell_type": "code",
      "source": [
        "lst = [\"tim\", \"is\", \"the\", \"best\", \"instructor\"]\n",
        "string = \"...\"\n",
        "tupl = (\"and\", \"he\", \"is\", \"great\")\n",
        "\n",
        "# Write your code here.\n",
        "for i in range(len(lst)):\n",
        "    print(lst[i])\n",
        "\n",
        "for i in range(len(string)):\n",
        "    print(string[i])\n",
        "\n",
        "for i in range(len(tupl)):\n",
        "    print(tupl[i])\n",
        "\n"
      ],
      "metadata": {
        "colab": {
          "base_uri": "https://localhost:8080/"
        },
        "id": "CK7FY_xXYDoh",
        "outputId": "392d6303-ab4a-4f01-9cbf-372680487b22"
      },
      "execution_count": null,
      "outputs": [
        {
          "output_type": "stream",
          "name": "stdout",
          "text": [
            "tim\n",
            "is\n",
            "the\n",
            "best\n",
            "instructor\n",
            ".\n",
            ".\n",
            ".\n",
            "and\n",
            "he\n",
            "is\n",
            "great\n"
          ]
        }
      ]
    },
    {
      "cell_type": "code",
      "source": [
        "string1 = \"aabbccd\"\n",
        "string2 = \"aabbccw\"\n",
        "s=[]\n",
        "b=[]\n",
        "for i,j in enumerate((string1)):\n",
        "  print(string1[i])\n",
        "  s.append(j)\n",
        "print(s)\n",
        "\n",
        "for i,j in enumerate((string2)):\n",
        "  print(string2[i])\n",
        "  b.append(j)\n",
        "print(b)\n",
        "\n",
        "for i in a:\n",
        "  if a[]\n",
        "if s==b:\n",
        "\n",
        "  print(\"string is same\")\n",
        "else:\n",
        "    print(\"not same\")"
      ],
      "metadata": {
        "colab": {
          "base_uri": "https://localhost:8080/"
        },
        "id": "WiffETgZYuoX",
        "outputId": "b7233ffc-e9af-4b57-82b9-9180818cca7e"
      },
      "execution_count": null,
      "outputs": [
        {
          "output_type": "stream",
          "name": "stdout",
          "text": [
            "a\n",
            "a\n",
            "b\n",
            "b\n",
            "c\n",
            "c\n",
            "d\n",
            "['a', 'a', 'b', 'b', 'c', 'c', 'd']\n",
            "a\n",
            "a\n",
            "b\n",
            "b\n",
            "c\n",
            "c\n",
            "w\n",
            "['a', 'a', 'b', 'b', 'c', 'c', 'w']\n",
            "not same\n"
          ]
        }
      ]
    },
    {
      "cell_type": "code",
      "source": [
        "#PRINT ONLY MATCHING CHARACTER\n",
        "string1 = \"aabbcsdw\"\n",
        "string2 = \"abbbcsdd\"\n",
        "\n",
        "for idx in range(len(string1)):\n",
        "    character1 = string1[idx]\n",
        "    character2 = string2[idx]\n",
        "\n",
        "    if character1 == character2:\n",
        "        print(character2)\n"
      ],
      "metadata": {
        "colab": {
          "base_uri": "https://localhost:8080/"
        },
        "id": "2FhbIUT4Z0OU",
        "outputId": "8b9fe4a4-3e2b-4b9d-da2f-1e765c7f64bf"
      },
      "execution_count": null,
      "outputs": [
        {
          "output_type": "stream",
          "name": "stdout",
          "text": [
            "a\n",
            "b\n",
            "b\n",
            "c\n",
            "s\n",
            "d\n"
          ]
        }
      ]
    },
    {
      "cell_type": "code",
      "source": [
        "lst = [45, 24, 22, 1, 45, 2, 12, 13, 16, 10, 0, -7]\n",
        "\n",
        "# Write your code here.\n",
        "for i,j in enumerate(lst):\n",
        "    if i%2!=0 and  j%2==0:\n",
        "       \n",
        "        print(j)\n",
        "    else:\n",
        "        pass\n"
      ],
      "metadata": {
        "colab": {
          "base_uri": "https://localhost:8080/"
        },
        "id": "PqErPy_1b6L-",
        "outputId": "cfcf2067-d947-41ab-bf3b-a4ad3bbb578e"
      },
      "execution_count": null,
      "outputs": [
        {
          "output_type": "stream",
          "name": "stdout",
          "text": [
            "24\n",
            "2\n",
            "10\n"
          ]
        }
      ]
    },
    {
      "cell_type": "code",
      "source": [
        "lst = [[2, 3, 4], [-2, -4, 0], [1, 2], [1, 1, 1, 5, 6], [0, 9, 8, 7]]\n",
        "\n",
        "# Write your code here.\n",
        "\n",
        "for i in range(len(lst)):\n",
        "    s=lst[i]\n",
        "    \n",
        "    d=sum(s)\n",
        "    print(d)\n",
        "    \n",
        "\n"
      ],
      "metadata": {
        "colab": {
          "base_uri": "https://localhost:8080/"
        },
        "id": "yk9VuaIHpNUW",
        "outputId": "ad1ae477-c541-436d-fd09-ec897bd03c5f"
      },
      "execution_count": null,
      "outputs": [
        {
          "output_type": "stream",
          "name": "stdout",
          "text": [
            "9\n",
            "-6\n",
            "3\n",
            "14\n",
            "24\n"
          ]
        }
      ]
    },
    {
      "cell_type": "code",
      "source": [
        "lst = [[2, 3, 4], [-2, -4, 0], [1, 2], [1, 1, 1, 5, 6], [0, 9, 8, 7]]\n",
        "\n",
        "for inner_list in lst:\n",
        "    sum_of_inner_list = 0\n",
        "\n",
        "    for item in inner_list:\n",
        "        sum_of_inner_list += item\n",
        "\n",
        "    print(sum_of_inner_list)"
      ],
      "metadata": {
        "colab": {
          "base_uri": "https://localhost:8080/"
        },
        "id": "8o6ZeXThqiIR",
        "outputId": "8bd641c4-06f7-44d3-c6f5-caba69926d2a"
      },
      "execution_count": null,
      "outputs": [
        {
          "output_type": "stream",
          "name": "stdout",
          "text": [
            "9\n",
            "-6\n",
            "3\n",
            "14\n",
            "24\n"
          ]
        }
      ]
    },
    {
      "cell_type": "code",
      "source": [
        "lst = [[2, 3, 4], [-2, -4, 0], [1, 2], [1, 1, 1, 5, 6], [0, 9, 8, 7]]\n",
        "\n",
        "# Write your code here.\n",
        "\n",
        "for i in range(len(lst)):\n",
        "    s=lst[i]\n",
        "    sum=0 # if we declare it outside then sum values gets added up wont take it for each list \n",
        "  \n",
        "\n",
        "    for i in s:\n",
        "      sum=sum+i \n",
        "    print(sum)   \n"
      ],
      "metadata": {
        "colab": {
          "base_uri": "https://localhost:8080/"
        },
        "id": "VtYI5x4creAd",
        "outputId": "09ecce2d-7467-4e16-d565-6a8a746c08ca"
      },
      "execution_count": null,
      "outputs": [
        {
          "output_type": "stream",
          "name": "stdout",
          "text": [
            "9\n",
            "3\n",
            "6\n",
            "20\n",
            "44\n"
          ]
        }
      ]
    },
    {
      "cell_type": "code",
      "source": [
        "lst = [-2, 0, 4, 5, 1, 2]\n",
        "\n",
        "for idx in range(len(lst)-1): \n",
        "    current_item = lst[idx]\n",
        "    next_item = lst[idx + 1]\n",
        "\n",
        "    sum_of_items = current_item + next_item\n",
        "    print(sum_of_items)"
      ],
      "metadata": {
        "colab": {
          "base_uri": "https://localhost:8080/"
        },
        "id": "G97v-Rqprvgi",
        "outputId": "547f0f1a-6a20-4d93-c06d-5f644a444250"
      },
      "execution_count": null,
      "outputs": [
        {
          "output_type": "stream",
          "name": "stdout",
          "text": [
            "-2\n",
            "4\n",
            "9\n",
            "6\n",
            "3\n"
          ]
        }
      ]
    },
    {
      "cell_type": "code",
      "source": [
        "lst = [-2, 0, 4, 5, 1, 2]\n",
        "for i in range(len(lst)-1):\n",
        "  sum=lst[i]+lst[i+1]\n",
        "  print(sum)"
      ],
      "metadata": {
        "colab": {
          "base_uri": "https://localhost:8080/"
        },
        "id": "sv0x2WrSufTf",
        "outputId": "0cd7dbfa-100d-4045-e7db-b702ef84bcb1"
      },
      "execution_count": null,
      "outputs": [
        {
          "output_type": "stream",
          "name": "stdout",
          "text": [
            "-2\n",
            "4\n",
            "9\n",
            "6\n",
            "3\n"
          ]
        }
      ]
    },
    {
      "cell_type": "code",
      "source": [
        ""
      ],
      "metadata": {
        "id": "RFpurb61w5Wu"
      },
      "execution_count": null,
      "outputs": []
    }
  ]
}