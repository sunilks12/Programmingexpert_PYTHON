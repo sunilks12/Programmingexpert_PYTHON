{
  "nbformat": 4,
  "nbformat_minor": 0,
  "metadata": {
    "colab": {
      "name": "PE_Conditions.ipynb",
      "provenance": [],
      "authorship_tag": "ABX9TyNkXV/LTGXFXdCAkyZHNKnY",
      "include_colab_link": true
    },
    "kernelspec": {
      "name": "python3",
      "display_name": "Python 3"
    },
    "language_info": {
      "name": "python"
    }
  },
  "cells": [
    {
      "cell_type": "markdown",
      "metadata": {
        "id": "view-in-github",
        "colab_type": "text"
      },
      "source": [
        "<a href=\"https://colab.research.google.com/github/sunilks12/Programmingexpert_PYTHON/blob/main/PE_Conditions.ipynb\" target=\"_parent\"><img src=\"https://colab.research.google.com/assets/colab-badge.svg\" alt=\"Open In Colab\"/></a>"
      ]
    },
    {
      "cell_type": "markdown",
      "source": [
        ""
      ],
      "metadata": {
        "id": "Pru-Tsu94Lva"
      }
    },
    {
      "cell_type": "code",
      "source": [
        "'''\n",
        "In Python, when comparing strings using the > or < operators, the strings are \n",
        "compared lexicographically. This means that \n",
        "characters are compared one at a time until the characters don't match; \n",
        "when they don't match, the \"larger\" or \"smaller\" character is determined by its ASCII value.\n",
        "\n",
        "In this question, the first two characters of both strings \n",
        "are \"he\"; this means that the next characters in the string need \n",
        "to be compared to determine which is larger. Therefore, in the third\n",
        "position of the second string, any character that has a larger ASCII value than\n",
        " \"l\", like \"m\", will result in this condition being True. Note that the capital \"M\" \n",
        "has a smaller ASCII value than the lowercase \"l\".\n",
        "\n",
        "The string \"helz\" (formed by picking \"lz\") is also greater than \n",
        "\"hello\", because the third characters in the two strings match, and \n",
        "the fourth character in \"helz\" is greater than the fourth character in \"hello\"\n",
        "'''"
      ],
      "metadata": {
        "id": "OzS1mBpY4DTV"
      },
      "execution_count": null,
      "outputs": []
    },
    {
      "cell_type": "code",
      "source": [
        "x='lz'\n",
        "\"hello\" < \"he\" + x\n"
      ],
      "metadata": {
        "colab": {
          "base_uri": "https://localhost:8080/"
        },
        "id": "wt_bxOKN4hkT",
        "outputId": "a4c58650-1a7e-4036-fa7d-9a7b54965a49"
      },
      "execution_count": 6,
      "outputs": [
        {
          "output_type": "execute_result",
          "data": {
            "text/plain": [
              "True"
            ]
          },
          "metadata": {},
          "execution_count": 6
        }
      ]
    },
    {
      "cell_type": "code",
      "source": [
        "# Hinr: Solve for Z first then solve others\n",
        "w = 1  # <- Change this\n",
        "x = 1  # <- Change this\n",
        "y = 3  # <- Change this\n",
        "z = 2  # <- Change this\n",
        "\n",
        "# Don't change any of these `condition_` variables.\n",
        "condition_1 = w < x + y\n",
        "condition_2 = x == y - 2\n",
        "condition_3 = z != 0\n",
        "condition_4 = z + z == z * z\n",
        "condition_5 = w > 0\n",
        "\n",
        "# All of these should print `True`.\n",
        "print(condition_1)\n",
        "print(condition_2)\n",
        "print(condition_3)\n",
        "print(condition_4)\n",
        "print(condition_5)\n"
      ],
      "metadata": {
        "colab": {
          "base_uri": "https://localhost:8080/"
        },
        "id": "kdOMZzFl4ros",
        "outputId": "418c948d-10cc-4b59-e249-c63318ec7c1e"
      },
      "execution_count": 7,
      "outputs": [
        {
          "output_type": "stream",
          "name": "stdout",
          "text": [
            "True\n",
            "True\n",
            "True\n",
            "True\n",
            "True\n"
          ]
        }
      ]
    },
    {
      "cell_type": "code",
      "source": [
        "# There are many different correct answers; this is simply one of them.\n",
        "#Hint: solve for y then you will get the x then compare ASCII values \n",
        "w = \"c\"\n",
        "x = \"hello\"\n",
        "y = \"hello\"\n",
        "z = \"j\"\n",
        "\n",
        "condition_1 = w != \"a\"\n",
        "condition_2 = w < x\n",
        "condition_3 = x == y\n",
        "condition_4 = y == \"hello\"\n",
        "condition_5 = z > \"c\"\n",
        "\n",
        "print(condition_1)\n",
        "print(condition_2)\n",
        "print(condition_3)\n",
        "print(condition_4)\n",
        "print(condition_5)\n"
      ],
      "metadata": {
        "colab": {
          "base_uri": "https://localhost:8080/"
        },
        "id": "FNCpL9bH5iAg",
        "outputId": "1357b6d5-029b-4ef1-9c5a-8f7adae5e5a7"
      },
      "execution_count": 8,
      "outputs": [
        {
          "output_type": "stream",
          "name": "stdout",
          "text": [
            "True\n",
            "True\n",
            "True\n",
            "True\n",
            "True\n"
          ]
        }
      ]
    },
    {
      "cell_type": "code",
      "source": [
        ""
      ],
      "metadata": {
        "id": "TmvRwwmj6hFd"
      },
      "execution_count": null,
      "outputs": []
    }
  ]
}