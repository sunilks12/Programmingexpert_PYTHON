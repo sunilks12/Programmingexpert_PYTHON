{
  "nbformat": 4,
  "nbformat_minor": 0,
  "metadata": {
    "colab": {
      "name": "conditions.ipynb",
      "provenance": [],
      "authorship_tag": "ABX9TyOCsgxlparGeSRGZFN6GDQH"
    },
    "kernelspec": {
      "name": "python3",
      "display_name": "Python 3"
    },
    "language_info": {
      "name": "python"
    }
  },
  "cells": [
    {
      "cell_type": "code",
      "execution_count": 1,
      "metadata": {
        "colab": {
          "base_uri": "https://localhost:8080/"
        },
        "id": "nAkU_8gLHGW0",
        "outputId": "92bc7c7c-7a16-467b-d9c1-894a1c731665"
      },
      "outputs": [
        {
          "output_type": "stream",
          "name": "stdout",
          "text": [
            "How old are you? 13\n",
            "You can ride the roller coaster!\n"
          ]
        }
      ],
      "source": [
        "\n",
        "age = int(input(\"How old are you? \"))\n",
        "\n",
        "if age >= 13:\n",
        "    print(\"You can ride the roller coaster!\")\n",
        "else:\n",
        "    print(\"You can't ride the roller coaster.\")"
      ]
    },
    {
      "cell_type": "code",
      "source": [
        "fav_language = input(\"What's your favorite programming language? \")\n",
        "\n",
        "if fav_language == \"Python\":\n",
        "    print(\"Nice choice!\")\n",
        "elif fav_language == \"Golang\":\n",
        "    print(\"You're a cool kid I see...\")\n",
        "elif fav_language == \"JavaScript\":\n",
        "    print(\"Okay Mr. web developer.\")\n",
        "else:\n",
        "    print(\"I don't know that language.\")\n"
      ],
      "metadata": {
        "colab": {
          "base_uri": "https://localhost:8080/"
        },
        "id": "CN22ZKnIHI2M",
        "outputId": "a20633c7-796c-4306-ea31-af11570c4620"
      },
      "execution_count": 2,
      "outputs": [
        {
          "output_type": "stream",
          "name": "stdout",
          "text": [
            "What's your favorite programming language? Python\n",
            "Nice choice!\n"
          ]
        }
      ]
    },
    {
      "cell_type": "code",
      "source": [
        "number1 = float(input(\"Enter a number: \"))\n",
        "# we use float() instead of int() to make sure if the user\n",
        "# enters a float like: 2.1, 0.3 or 4.5 the program doesn't crash\n",
        "\n",
        "if number1 >= 10 and number1 <= 20:\n",
        "    number2 = float(input(\"Enter another number: \"))\n",
        "    sum_of_numbers = number1 + number2\n",
        "\n",
        "    print(\"The sum of these two numbers is:\", sum_of_numbers)\n",
        "\n",
        "    if sum_of_numbers > 100:\n",
        "        print(\"That is a large sum!\")\n"
      ],
      "metadata": {
        "colab": {
          "base_uri": "https://localhost:8080/"
        },
        "id": "eD9pMssKIYzw",
        "outputId": "f3ed281d-7607-4687-8168-01ba98343bf6"
      },
      "execution_count": 4,
      "outputs": [
        {
          "output_type": "stream",
          "name": "stdout",
          "text": [
            "Enter a number: 13\n",
            "Enter another number: 20\n",
            "The sum of these two numbers is: 33.0\n"
          ]
        }
      ]
    },
    {
      "cell_type": "code",
      "source": [
        "# Single line if statement\n",
        "x=int(input(\"enter a number \"))\n",
        "result='ok' if x<10 else 'not okay'\n",
        "print(result)"
      ],
      "metadata": {
        "colab": {
          "base_uri": "https://localhost:8080/"
        },
        "id": "Yr0RrTB8NJQU",
        "outputId": "72ddea05-fc11-4381-cf9d-45bdad58a231"
      },
      "execution_count": 6,
      "outputs": [
        {
          "output_type": "stream",
          "name": "stdout",
          "text": [
            "enter a number 3\n",
            "ok\n"
          ]
        }
      ]
    },
    {
      "cell_type": "code",
      "source": [
        ""
      ],
      "metadata": {
        "id": "v3p0vajTOiZb"
      },
      "execution_count": 6,
      "outputs": []
    }
  ]
}