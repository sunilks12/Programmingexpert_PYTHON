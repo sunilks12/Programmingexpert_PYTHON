{
  "nbformat": 4,
  "nbformat_minor": 0,
  "metadata": {
    "colab": {
      "name": "Files.ipynb",
      "provenance": [],
      "collapsed_sections": [],
      "authorship_tag": "ABX9TyOWotr18ioS0Yjt9ikQpfpl"
    },
    "kernelspec": {
      "name": "python3",
      "display_name": "Python 3"
    },
    "language_info": {
      "name": "python"
    }
  },
  "cells": [
    {
      "cell_type": "code",
      "execution_count": null,
      "metadata": {
        "id": "mFE0-k72e2JH"
      },
      "outputs": [],
      "source": [
        "# file opening"
      ]
    },
    {
      "cell_type": "code",
      "source": [
        "file=open(\"file.txt\",\"r\")\n",
        "print(file.read())\n",
        "file.close()"
      ],
      "metadata": {
        "id": "BjuM3vuQf8gW"
      },
      "execution_count": null,
      "outputs": []
    },
    {
      "cell_type": "code",
      "source": [
        "with open(\"file.txt\",\"r\") as file:\n",
        "  print(file.read()) # reads entire file"
      ],
      "metadata": {
        "id": "e4S7OFZ8gfdy"
      },
      "execution_count": null,
      "outputs": []
    },
    {
      "cell_type": "code",
      "source": [
        "with open(\"file.txt\",\"r\") as file:\n",
        "  print(file.readline()) # this gives one line in the list  \n",
        "  # in above code it captures the space but gives entire output\n",
        "# this code captures blank lines and put it inside the list as /n"
      ],
      "metadata": {
        "id": "Hs1lpWJ3gn3a"
      },
      "execution_count": null,
      "outputs": []
    },
    {
      "cell_type": "code",
      "source": [
        "with open(\"file.txt\",\"r\") as file:\n",
        "  line1=file.readlines()[0] # for subsetting or indexing\n",
        "  print([line1.strip()]) # strip removes the trailing leading white spaces"
      ],
      "metadata": {
        "id": "O002dZ-3gn6H"
      },
      "execution_count": null,
      "outputs": []
    },
    {
      "cell_type": "code",
      "source": [
        "with open(\"file.txt\",\"r\") as file:\n",
        "  line1=file.read() \n",
        "  line1=line1.replace(\"\\n\",\"\") # replaces the space in entire file\n",
        "  print(line1)"
      ],
      "metadata": {
        "id": "hxCoUHJRgn8g"
      },
      "execution_count": null,
      "outputs": []
    },
    {
      "cell_type": "code",
      "source": [
        "# for making changes in the existing file, we have to use w\n",
        "with open(\"file.txt\",\"w\") as file:\n",
        "  file.write(\"hello, how are you, what you doing\")\n",
        "   "
      ],
      "metadata": {
        "id": "fnREmGyDgn_I"
      },
      "execution_count": null,
      "outputs": []
    },
    {
      "cell_type": "code",
      "source": [
        "# r+ is used to read and write\n",
        "with open(\"file.txt\",\"r+\") as file:\n",
        "  score=file.read() \n",
        "  new_score=int(score)+1\n",
        "  file.seek(0) # this is to write the output in the begining or end\n",
        "  file.write(str(new_score ))"
      ],
      "metadata": {
        "id": "2Vr-r5gNgoBa"
      },
      "execution_count": null,
      "outputs": []
    },
    {
      "cell_type": "code",
      "source": [
        "# iterate through  the file line\n",
        "\n",
        "with open(\"file.txt\",\"r+\") as file:\n",
        "  for i, line in enumerate(file):\n",
        "    print(line, end=\"\")\n",
        "    if i==2: # to filter for only 3 lines\n",
        "      break \n"
      ],
      "metadata": {
        "id": "6XMrdddLgoD6"
      },
      "execution_count": null,
      "outputs": []
    },
    {
      "cell_type": "code",
      "source": [
        "text = \"\"\n",
        "\n",
        "with open(\"data/programmingExpert.txt\", \"r\") as file:\n",
        "    text = file.read()\n",
        "\n",
        "escape_characters_removed = text.replace(\"\\n\", \" \")\n",
        "punctuation_removed = escape_characters_removed.replace(\n",
        "    \",\", \"\").replace(\"-\", \"\").replace(\".\", \"\")\n",
        "\n",
        "words = punctuation_removed.split(\" \")\n",
        "empty_strings = words.count(\"\")\n",
        "number_of_words = len(words) - empty_strings\n",
        "\n",
        "print(number_of_words)\n"
      ],
      "metadata": {
        "id": "gmLJI017lmwT"
      },
      "execution_count": null,
      "outputs": []
    },
    {
      "cell_type": "code",
      "source": [
        "file = open(\"data/programmingExpert.txt\", \"r\")\n",
        "text = file.read()\n",
        "file.close()\n",
        "\n",
        "escape_characters_removed = text.replace(\"\\n\", \" \")\n",
        "punctuation_removed = escape_characters_removed.replace(\n",
        "    \",\", \"\").replace(\"-\", \"\").replace(\".\", \"\")\n",
        "\n",
        "words = punctuation_removed.split(\" \")\n",
        "empty_strings = words.count(\"\")\n",
        "number_of_words = len(words) - empty_strings\n",
        "\n",
        "print(number_of_words)\n"
      ],
      "metadata": {
        "id": "zpmefmnemDsi"
      },
      "execution_count": null,
      "outputs": []
    },
    {
      "cell_type": "code",
      "source": [
        "with open(\"programmingExpert.txt\", \"w\") as file:\n",
        "    for num in range(1, 51):\n",
        "        square = num ** 2\n",
        "        file.write(str(square) + \"\\n\")\n"
      ],
      "metadata": {
        "id": "NyGwSoDlmLJ3"
      },
      "execution_count": null,
      "outputs": []
    },
    {
      "cell_type": "code",
      "source": [
        ""
      ],
      "metadata": {
        "id": "sdsZUGsFmLTL"
      },
      "execution_count": null,
      "outputs": []
    },
    {
      "cell_type": "code",
      "source": [
        ""
      ],
      "metadata": {
        "id": "M4EHNvhBmD1L"
      },
      "execution_count": null,
      "outputs": []
    },
    {
      "cell_type": "code",
      "source": [
        ""
      ],
      "metadata": {
        "id": "u_2gTGuelmy5"
      },
      "execution_count": null,
      "outputs": []
    },
    {
      "cell_type": "code",
      "source": [
        ""
      ],
      "metadata": {
        "id": "7MOMoUlplm1j"
      },
      "execution_count": null,
      "outputs": []
    }
  ]
}