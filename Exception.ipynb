{
  "nbformat": 4,
  "nbformat_minor": 0,
  "metadata": {
    "colab": {
      "name": "Exception.ipynb",
      "provenance": [],
      "authorship_tag": "ABX9TyPR4SY49Yyn5/vA4AvfoS2A"
    },
    "kernelspec": {
      "name": "python3",
      "display_name": "Python 3"
    },
    "language_info": {
      "name": "python"
    }
  },
  "cells": [
    {
      "cell_type": "code",
      "execution_count": null,
      "metadata": {
        "colab": {
          "base_uri": "https://localhost:8080/"
        },
        "id": "TfeFNdGx9CmC",
        "outputId": "91e99855-daa6-494e-b3d4-3b18048e8a46"
      },
      "outputs": [
        {
          "output_type": "stream",
          "name": "stdout",
          "text": [
            "Exception\n",
            "done\n"
          ]
        }
      ],
      "source": [
        "try:\n",
        "  int(\"hi\")\n",
        "except:\n",
        "  print(\"Exception\")\n",
        "print('done')"
      ]
    },
    {
      "cell_type": "code",
      "source": [
        "try:\n",
        "  int(\"hello\")\n",
        "except ValueError as e:\n",
        "  print(\"Exception\",e)\n",
        "print(\"done\")"
      ],
      "metadata": {
        "colab": {
          "base_uri": "https://localhost:8080/"
        },
        "id": "lTufgcAS9wVE",
        "outputId": "7193b607-eb99-424f-b934-2b838bfc6108"
      },
      "execution_count": null,
      "outputs": [
        {
          "output_type": "stream",
          "name": "stdout",
          "text": [
            "Exception invalid literal for int() with base 10: 'hello'\n",
            "done\n"
          ]
        }
      ]
    },
    {
      "cell_type": "code",
      "source": [
        "# it checks on first and throws the output so aint gonna get value error \n",
        "try:\n",
        "  2/0\n",
        "  int(\"hello\")\n",
        "except ValueError as e:\n",
        "  print(\"Exception\",e)\n",
        "except ZeroDivisionError as z:\n",
        "  print(\"Exception 2\", z)\n",
        "print(\"done\")"
      ],
      "metadata": {
        "colab": {
          "base_uri": "https://localhost:8080/"
        },
        "id": "XuzfUZvW-Q6y",
        "outputId": "16d5126a-c4f7-4d25-ef04-c46d08fcdeea"
      },
      "execution_count": null,
      "outputs": [
        {
          "output_type": "stream",
          "name": "stdout",
          "text": [
            "Exception 2 division by zero\n",
            "done\n"
          ]
        }
      ]
    },
    {
      "cell_type": "code",
      "source": [
        "try:\n",
        "  2/0\n",
        "  int(\"hello\")\n",
        "except Exception as e: # when we dont want to specify anything\n",
        "  print(\"Exception\",e)\n",
        "\n",
        "print(\"done\")"
      ],
      "metadata": {
        "colab": {
          "base_uri": "https://localhost:8080/"
        },
        "id": "VdY7HBac-zvJ",
        "outputId": "0e48ee68-da61-43c0-bafc-c478a0883ddd"
      },
      "execution_count": null,
      "outputs": [
        {
          "output_type": "stream",
          "name": "stdout",
          "text": [
            "Exception division by zero\n",
            "done\n"
          ]
        }
      ]
    },
    {
      "cell_type": "code",
      "source": [
        "try:\n",
        "  2/0\n",
        "  int(\"hello\")\n",
        "except ValueError as e:\n",
        "  print(\"Exception\",e)\n",
        "except ZeroDivisionError as z:\n",
        "  print(\"Exception 2\", z)\n",
        "finally: # this code runs irrespective or exceptions or non exceptions\n",
        "  print(\"done\")"
      ],
      "metadata": {
        "colab": {
          "base_uri": "https://localhost:8080/"
        },
        "id": "aBw2qhuk_aOq",
        "outputId": "8e0e939c-c987-4ce4-8ed7-d5ce4bd09e4c"
      },
      "execution_count": null,
      "outputs": [
        {
          "output_type": "stream",
          "name": "stdout",
          "text": [
            "Exception 2 division by zero\n",
            "done\n"
          ]
        }
      ]
    },
    {
      "cell_type": "code",
      "source": [
        "# real usage of finally comes handy when we want to store back the original value irrespective of operations\n",
        "try:\n",
        "  lst=[2,3,4,5,6,8]\n",
        "  lst[2]=9\n",
        "  print(lst)\n",
        "except Exception as e:\n",
        "  print(\"Exception\", e)\n",
        "finally:\n",
        "    lst=[2,3,4,5,6,8]\n",
        "print(lst)\n"
      ],
      "metadata": {
        "colab": {
          "base_uri": "https://localhost:8080/"
        },
        "id": "84xooKnW_y4S",
        "outputId": "6ac05d15-eac4-4e27-b16d-222118cff333"
      },
      "execution_count": null,
      "outputs": [
        {
          "output_type": "stream",
          "name": "stdout",
          "text": [
            "[2, 3, 9, 5, 6, 8]\n",
            "[2, 3, 4, 5, 6, 8]\n"
          ]
        }
      ]
    },
    {
      "cell_type": "code",
      "source": [
        "while True:\n",
        "  num=input(\"enter a number: \")\n",
        "  if not num.isdigit():\n",
        "    raise ValueError(\"This is not the right number\")\n",
        "    break\n",
        "    \n",
        "\n"
      ],
      "metadata": {
        "colab": {
          "base_uri": "https://localhost:8080/",
          "height": 292
        },
        "id": "nsnU6Qe4Ag5r",
        "outputId": "fad46e7d-2f11-43d7-fdab-a68db3df967d"
      },
      "execution_count": null,
      "outputs": [
        {
          "name": "stdout",
          "output_type": "stream",
          "text": [
            "enter a number: 3\n",
            "enter a number: 4\n",
            "enter a number: a\n"
          ]
        },
        {
          "output_type": "error",
          "ename": "ValueError",
          "evalue": "ignored",
          "traceback": [
            "\u001b[0;31m---------------------------------------------------------------------------\u001b[0m",
            "\u001b[0;31mValueError\u001b[0m                                Traceback (most recent call last)",
            "\u001b[0;32m<ipython-input-18-5f4cac9dcc66>\u001b[0m in \u001b[0;36m<module>\u001b[0;34m()\u001b[0m\n\u001b[1;32m      2\u001b[0m   \u001b[0mnum\u001b[0m\u001b[0;34m=\u001b[0m\u001b[0minput\u001b[0m\u001b[0;34m(\u001b[0m\u001b[0;34m\"enter a number: \"\u001b[0m\u001b[0;34m)\u001b[0m\u001b[0;34m\u001b[0m\u001b[0;34m\u001b[0m\u001b[0m\n\u001b[1;32m      3\u001b[0m   \u001b[0;32mif\u001b[0m \u001b[0;32mnot\u001b[0m \u001b[0mnum\u001b[0m\u001b[0;34m.\u001b[0m\u001b[0misdigit\u001b[0m\u001b[0;34m(\u001b[0m\u001b[0;34m)\u001b[0m\u001b[0;34m:\u001b[0m\u001b[0;34m\u001b[0m\u001b[0;34m\u001b[0m\u001b[0m\n\u001b[0;32m----> 4\u001b[0;31m     \u001b[0;32mraise\u001b[0m \u001b[0mValueError\u001b[0m\u001b[0;34m(\u001b[0m\u001b[0;34m\"This is not the right number\"\u001b[0m\u001b[0;34m)\u001b[0m\u001b[0;34m\u001b[0m\u001b[0;34m\u001b[0m\u001b[0m\n\u001b[0m\u001b[1;32m      5\u001b[0m     \u001b[0;32mbreak\u001b[0m\u001b[0;34m\u001b[0m\u001b[0;34m\u001b[0m\u001b[0m\n\u001b[1;32m      6\u001b[0m \u001b[0;34m\u001b[0m\u001b[0m\n",
            "\u001b[0;31mValueError\u001b[0m: This is not the right number"
          ]
        }
      ]
    },
    {
      "cell_type": "code",
      "source": [
        "while True:\n",
        "  num=input(\"Enter\")\n",
        "\n",
        "  try:\n",
        "    num=int(num)\n",
        "    break\n",
        "  except ValueError:\n",
        "    print(\"Not a valid number\")\n"
      ],
      "metadata": {
        "colab": {
          "base_uri": "https://localhost:8080/"
        },
        "id": "ciLZZybuBtog",
        "outputId": "5f9c0a8b-56ae-4bd7-ee58-8fbd1dcd36d1"
      },
      "execution_count": null,
      "outputs": [
        {
          "name": "stdout",
          "output_type": "stream",
          "text": [
            "Enterb\n",
            "Not a valid number\n",
            "Enterr\n",
            "Not a valid number\n",
            "Enterq\n",
            "Not a valid number\n",
            "Enter1\n"
          ]
        }
      ]
    },
    {
      "cell_type": "code",
      "source": [
        "numerator = input(\"Enter the numerator: \")\n",
        "denominator = input(\"Enter the denominator: \")\n",
        "\n",
        "try:\n",
        "    numerator = float(numerator)\n",
        "except Exception as e:\n",
        "    print(\"The numerator is not a number.\")\n",
        "\n",
        "try:\n",
        "    denominator = float(denominator)\n",
        "except Exception as e:\n",
        "    print(\"The denominator is not a number.\")\n",
        "\n",
        "\n",
        "try:\n",
        "    result = numerator / denominator\n",
        "    print(f\"The result of this division is {result}.\")\n",
        "except ZeroDivisionError as e:\n",
        "    print(\"You cannot divide by 0.\")\n",
        "    print(\"This division cannot be performed.\")\n",
        "except Exception as e:\n",
        "    print(\"This division cannot be performed.\")\n",
        "finally:\n",
        "    print('Goodbye!')\n"
      ],
      "metadata": {
        "colab": {
          "base_uri": "https://localhost:8080/"
        },
        "id": "RA_XPhBeDIP5",
        "outputId": "b94282d5-fe81-4210-d032-30a5f624541a"
      },
      "execution_count": null,
      "outputs": [
        {
          "output_type": "stream",
          "name": "stdout",
          "text": [
            "Enter the numerator: 4\n",
            "Enter the denominator: 3\n",
            "The result of this division is 1.3333333333333333.\n",
            "Goodbye!\n"
          ]
        }
      ]
    },
    {
      "cell_type": "code",
      "source": [
        ""
      ],
      "metadata": {
        "id": "RtR-HV_jEj_g"
      },
      "execution_count": null,
      "outputs": []
    }
  ]
}