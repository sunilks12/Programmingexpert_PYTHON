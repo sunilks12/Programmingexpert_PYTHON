{
  "nbformat": 4,
  "nbformat_minor": 0,
  "metadata": {
    "colab": {
      "name": "List.ipynb",
      "provenance": [],
      "authorship_tag": "ABX9TyP7FnLtJkqFHXVPiw9HoqCL"
    },
    "kernelspec": {
      "name": "python3",
      "display_name": "Python 3"
    },
    "language_info": {
      "name": "python"
    }
  },
  "cells": [
    {
      "cell_type": "code",
      "execution_count": 1,
      "metadata": {
        "colab": {
          "base_uri": "https://localhost:8080/"
        },
        "id": "SkvhWhzhQe1f",
        "outputId": "57b94912-25a9-45e5-da8b-7415990b92de"
      },
      "outputs": [
        {
          "output_type": "stream",
          "name": "stdout",
          "text": [
            "13\n"
          ]
        }
      ],
      "source": [
        "lst = [[0, 2, 4], 1, [6, 8, 10], 2, [[1, 2], [3, 4], [5, 6]], 3]\n",
        "\n",
        "print(lst[-2][1][0] + lst[2][2])"
      ]
    },
    {
      "cell_type": "code",
      "source": [
        "lst = [1, 3, 0, 2, 2, 1, 2]\n",
        "\n",
        "print(lst.index(2))"
      ],
      "metadata": {
        "colab": {
          "base_uri": "https://localhost:8080/"
        },
        "id": "_FJiP57bQiXL",
        "outputId": "71b67ecf-1d80-4825-ea9f-599b6920a3fc"
      },
      "execution_count": 2,
      "outputs": [
        {
          "output_type": "stream",
          "name": "stdout",
          "text": [
            "3\n"
          ]
        }
      ]
    },
    {
      "cell_type": "code",
      "source": [
        "# it checks how many times its been repeated and false count is also one bcz inside nested loop\n",
        "# won't be counted\n",
        "lst = [[\"Hello\", False], [1, 2], False, \"Hello\", 1]\n",
        "\n",
        "print(lst.count([1, 2]) + lst.count(False))"
      ],
      "metadata": {
        "colab": {
          "base_uri": "https://localhost:8080/"
        },
        "id": "zsX5ujicQvze",
        "outputId": "ec27d0ba-df89-4c0c-d549-08f6be03600f"
      },
      "execution_count": 4,
      "outputs": [
        {
          "output_type": "stream",
          "name": "stdout",
          "text": [
            "2\n"
          ]
        }
      ]
    },
    {
      "cell_type": "code",
      "source": [
        "# will get out of range exception\n",
        "lst = [0, 1, 2, 3, 4, 5, 6, 7]\n",
        "\n",
        "print(lst[-9])"
      ],
      "metadata": {
        "colab": {
          "base_uri": "https://localhost:8080/",
          "height": 201
        },
        "id": "_AqMmOYuQ5yk",
        "outputId": "7a62d78d-edea-4a3d-8555-04a3b24e1359"
      },
      "execution_count": 5,
      "outputs": [
        {
          "output_type": "error",
          "ename": "IndexError",
          "evalue": "ignored",
          "traceback": [
            "\u001b[0;31m---------------------------------------------------------------------------\u001b[0m",
            "\u001b[0;31mIndexError\u001b[0m                                Traceback (most recent call last)",
            "\u001b[0;32m<ipython-input-5-53da7e07c9ba>\u001b[0m in \u001b[0;36m<module>\u001b[0;34m()\u001b[0m\n\u001b[1;32m      2\u001b[0m \u001b[0mlst\u001b[0m \u001b[0;34m=\u001b[0m \u001b[0;34m[\u001b[0m\u001b[0;36m0\u001b[0m\u001b[0;34m,\u001b[0m \u001b[0;36m1\u001b[0m\u001b[0;34m,\u001b[0m \u001b[0;36m2\u001b[0m\u001b[0;34m,\u001b[0m \u001b[0;36m3\u001b[0m\u001b[0;34m,\u001b[0m \u001b[0;36m4\u001b[0m\u001b[0;34m,\u001b[0m \u001b[0;36m5\u001b[0m\u001b[0;34m,\u001b[0m \u001b[0;36m6\u001b[0m\u001b[0;34m,\u001b[0m \u001b[0;36m7\u001b[0m\u001b[0;34m]\u001b[0m\u001b[0;34m\u001b[0m\u001b[0;34m\u001b[0m\u001b[0m\n\u001b[1;32m      3\u001b[0m \u001b[0;34m\u001b[0m\u001b[0m\n\u001b[0;32m----> 4\u001b[0;31m \u001b[0mprint\u001b[0m\u001b[0;34m(\u001b[0m\u001b[0mlst\u001b[0m\u001b[0;34m[\u001b[0m\u001b[0;34m-\u001b[0m\u001b[0;36m9\u001b[0m\u001b[0;34m]\u001b[0m\u001b[0;34m)\u001b[0m\u001b[0;34m\u001b[0m\u001b[0;34m\u001b[0m\u001b[0m\n\u001b[0m",
            "\u001b[0;31mIndexError\u001b[0m: list index out of range"
          ]
        }
      ]
    },
    {
      "cell_type": "code",
      "source": [
        "lst_1 = [1, \"True\", 2.0]\n",
        "lst_2 = [[1, 2], 3]\n",
        "  \n",
        "print(lst_1 + lst_2)"
      ],
      "metadata": {
        "colab": {
          "base_uri": "https://localhost:8080/"
        },
        "id": "OgF70gvqRc-T",
        "outputId": "4e9896c2-295c-4d6e-c9fc-296d9173ff79"
      },
      "execution_count": 6,
      "outputs": [
        {
          "output_type": "stream",
          "name": "stdout",
          "text": [
            "[1, 'True', 2.0, [1, 2], 3]\n"
          ]
        }
      ]
    },
    {
      "cell_type": "code",
      "source": [
        "a=int(input(\"Enter a Number: \"))\n",
        "b=[]\n",
        "for i in range(1,a):\n",
        "  b.append(\"Enter a string\")\n",
        "  \n",
        "\n",
        "    "
      ],
      "metadata": {
        "colab": {
          "base_uri": "https://localhost:8080/"
        },
        "id": "bVD3aud-RmRR",
        "outputId": "2708cd23-646c-4e7e-fac6-2e0171bcea88"
      },
      "execution_count": 14,
      "outputs": [
        {
          "name": "stdout",
          "output_type": "stream",
          "text": [
            "Enter a Number: 3\n"
          ]
        }
      ]
    },
    {
      "cell_type": "code",
      "source": [
        "string1 = input(\"Enter a string: \")\n",
        "string2 = input(\"Enter a string: \")\n",
        "string3 = input(\"Enter a string: \")\n",
        "string4 = input(\"Enter a string: \")\n",
        "string5 = input(\"Enter a string: \")\n",
        "\n",
        "strings = [string1, string2, string3, string4, string5]\n",
        "\n",
        "num1 = int(input(\"Enter a number: \"))\n",
        "num2 = int(input(\"Enter a number: \"))\n",
        "num3 = int(input(\"Enter a number: \"))\n",
        "\n",
        "final_string = strings[num1] + strings[num2] + strings[num3]\n",
        "print(final_string)\n"
      ],
      "metadata": {
        "colab": {
          "base_uri": "https://localhost:8080/"
        },
        "id": "EQ0RnwXSSwmz",
        "outputId": "35443062-69a1-4cdf-bad4-581893090fa5"
      },
      "execution_count": 16,
      "outputs": [
        {
          "output_type": "stream",
          "name": "stdout",
          "text": [
            "Enter a string: 3\n",
            "Enter a string: we\n",
            "Enter a string: er\n",
            "Enter a string: rt\n",
            "Enter a string: 2\n",
            "Enter a number: 3\n",
            "Enter a number: 2\n",
            "Enter a number: 1\n",
            "rterwe\n"
          ]
        }
      ]
    },
    {
      "cell_type": "code",
      "source": [
        "#CHECK OUT REMOVE, EXTEND, APPEND and other methods"
      ],
      "metadata": {
        "id": "L-YReQa4UldF"
      },
      "execution_count": 17,
      "outputs": []
    },
    {
      "cell_type": "code",
      "source": [
        ""
      ],
      "metadata": {
        "id": "K9mRoVNlWwg_"
      },
      "execution_count": null,
      "outputs": []
    }
  ]
}