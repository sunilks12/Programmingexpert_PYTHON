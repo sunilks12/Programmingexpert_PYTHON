{
  "nbformat": 4,
  "nbformat_minor": 0,
  "metadata": {
    "colab": {
      "provenance": [],
      "authorship_tag": "ABX9TyPcfUinNhL4ZsmD9pLfhMey",
      "include_colab_link": true
    },
    "kernelspec": {
      "name": "python3",
      "display_name": "Python 3"
    },
    "language_info": {
      "name": "python"
    }
  },
  "cells": [
    {
      "cell_type": "markdown",
      "metadata": {
        "id": "view-in-github",
        "colab_type": "text"
      },
      "source": [
        "<a href=\"https://colab.research.google.com/github/sunilks12/Programmingexpert_PYTHON/blob/main/lambda_map_filter_functions.ipynb\" target=\"_parent\"><img src=\"https://colab.research.google.com/assets/colab-badge.svg\" alt=\"Open In Colab\"/></a>"
      ]
    },
    {
      "cell_type": "code",
      "execution_count": null,
      "metadata": {
        "id": "ALHxo1x550dx"
      },
      "outputs": [],
      "source": []
    },
    {
      "cell_type": "markdown",
      "source": [
        "A lambda is an anonymous function that can be defined in-line without the use of the def keyword. This is extremely useful when defining a\n",
        "custom sort ordering for a collection. Example:"
      ],
      "metadata": {
        "id": "HgigDk-D88Iw"
      }
    },
    {
      "cell_type": "code",
      "source": [
        "# Here we have a list of tuples, \n",
        "# each representing a food and its price.\n",
        "lst = [\n",
        " ('cake','30'),\n",
        " ('orange','3'),\n",
        " ('pasta','20'),\n",
        "]\n",
        "# This lambda function lets us sort \n",
        "# by the price of the items.\n",
        "lst.sort(key=lambda x:x[1])\n",
        "lst"
      ],
      "metadata": {
        "colab": {
          "base_uri": "https://localhost:8080/"
        },
        "id": "QVa6tox_89A0",
        "outputId": "aa93e0d2-82ff-4b63-bf9e-0f03c8f6fcad"
      },
      "execution_count": 7,
      "outputs": [
        {
          "output_type": "execute_result",
          "data": {
            "text/plain": [
              "[('pasta', '20'), ('orange', '3'), ('cake', '30')]"
            ]
          },
          "metadata": {},
          "execution_count": 7
        }
      ]
    },
    {
      "cell_type": "code",
      "source": [
        "#In Python, lambda functions can have optional parameters. Here is an example of a lambda with an\n",
        "#optional parameter:\n",
        "lambda x, y=1: x + y + 5"
      ],
      "metadata": {
        "id": "EQnwmUqk9Aiz"
      },
      "execution_count": 9,
      "outputs": []
    },
    {
      "cell_type": "code",
      "source": [
        "#In Python, what expression would result in ab| being printed to the screen?\n",
        "a = lambda y: lambda x: lambda z: print(x + y, end=z)"
      ],
      "metadata": {
        "id": "zrqtnPU19kMc"
      },
      "execution_count": 10,
      "outputs": []
    },
    {
      "cell_type": "code",
      "source": [
        "a(\"b\")(\"a\")(\"|\")\n"
      ],
      "metadata": {
        "colab": {
          "base_uri": "https://localhost:8080/"
        },
        "id": "-LUhg-mA9zxd",
        "outputId": "f5363974-8be5-482f-8280-d482af7b32d1"
      },
      "execution_count": 13,
      "outputs": [
        {
          "output_type": "stream",
          "name": "stdout",
          "text": [
            "ab|"
          ]
        }
      ]
    },
    {
      "cell_type": "markdown",
      "source": [
        "a holds a complicated lambda function because it returns a lambda that returns a lambda . This\n",
        "means we'll need three subsequent function calls to execute the print statement.\n",
        "When we call a(\"b\") a lambda that looks like the following is returned\n",
        "lambda x: lambda z: print(x + \"b\", end=z) .\n",
        "When we call a(\"b\")(\"a\") a lambda that looks like the following is returned\n",
        "lambda z: print(\"a\" + \"b\", end=z) .\n",
        "When we call a(\"b\")(\"a\")(\"|\") we execute the print statement with y = \"b\" , x = \"a\"\n",
        "and z = \"|\""
      ],
      "metadata": {
        "id": "MmkmCgFZ-VjX"
      }
    },
    {
      "cell_type": "code",
      "source": [
        "func= lambda x,y,z=1: x+y+z\n",
        "func(2,3)"
      ],
      "metadata": {
        "colab": {
          "base_uri": "https://localhost:8080/"
        },
        "id": "bDi-9VTi-QMF",
        "outputId": "1bbc59dd-8a81-4a96-9710-33d1ea6e101e"
      },
      "execution_count": 14,
      "outputs": [
        {
          "output_type": "execute_result",
          "data": {
            "text/plain": [
              "6"
            ]
          },
          "metadata": {},
          "execution_count": 14
        }
      ]
    },
    {
      "cell_type": "code",
      "source": [
        "lst = [(1,2),(-2,-4),(3,4),(0,0)]\n",
        "lst.sort(key = lambda x : x[1])\n",
        "print(lst)\n",
        "                           "
      ],
      "metadata": {
        "colab": {
          "base_uri": "https://localhost:8080/"
        },
        "id": "4Hba__Pk_Elv",
        "outputId": "8187ce7a-a458-4476-f18c-2569bd405bb5"
      },
      "execution_count": 15,
      "outputs": [
        {
          "output_type": "stream",
          "name": "stdout",
          "text": [
            "[(-2, -4), (0, 0), (1, 2), (3, 4)]\n"
          ]
        }
      ]
    },
    {
      "cell_type": "code",
      "source": [
        "lst = [(-2,2),(8,-4),(3,4),(0,0)]\n",
        "lst.sort(key = lambda x : x[0])\n",
        "print(lst)\n",
        "             "
      ],
      "metadata": {
        "colab": {
          "base_uri": "https://localhost:8080/"
        },
        "id": "1hpP8sVQ_2yW",
        "outputId": "0e103c4d-dfaf-4e28-d409-fd41b64cabcf"
      },
      "execution_count": 17,
      "outputs": [
        {
          "output_type": "stream",
          "name": "stdout",
          "text": [
            "[(-2, 2), (0, 0), (3, 4), (8, -4)]\n"
          ]
        }
      ]
    },
    {
      "cell_type": "code",
      "source": [
        "mul=lambda x: lambda y: x*y\n",
        "result=mul(3)\n",
        "result"
      ],
      "metadata": {
        "colab": {
          "base_uri": "https://localhost:8080/"
        },
        "id": "oZjdUrIz_6Ge",
        "outputId": "edc953ae-bcc9-4dd0-a92f-556454e4743f"
      },
      "execution_count": 19,
      "outputs": [
        {
          "output_type": "execute_result",
          "data": {
            "text/plain": [
              "<function __main__.<lambda>.<locals>.<lambda>(y)>"
            ]
          },
          "metadata": {},
          "execution_count": 19
        }
      ]
    },
    {
      "cell_type": "code",
      "source": [
        "mul=lambda x: lambda y: x*y # have to parse inside the funtion twice\n",
        "result=mul(3)\n",
        "result(4)"
      ],
      "metadata": {
        "colab": {
          "base_uri": "https://localhost:8080/"
        },
        "id": "5K3HUJVdAT4m",
        "outputId": "96ceadca-e2b9-4724-a93c-2e7e320524ab"
      },
      "execution_count": 20,
      "outputs": [
        {
          "output_type": "execute_result",
          "data": {
            "text/plain": [
              "12"
            ]
          },
          "metadata": {},
          "execution_count": 20
        }
      ]
    },
    {
      "cell_type": "code",
      "source": [
        "# my solution\n",
        "add_values=lambda x,y,z: int(x)+int(y)+int(z)\n",
        "print(add_values(3,4,5))\n",
        "max_length=lambda x,y: len(x) if len(str(x))> len(str(y)) else len(y)\n",
        "print(max_length(\"hello\",\"how\"))\n",
        "create_set=lambda x,y: list(set(x)&set(y))\n",
        "print(create_set([1,2],[1,3]))\n",
        "\n",
        "# PE SOLUTION\n",
        "add_values = lambda x, y, z : x + y + z\n",
        "max_length = lambda x, y: max(len(x), len(y))\n",
        "create_set = lambda x, y: set(x).union(y)\n",
        "\n",
        "def common_member(a, b):\n",
        "    result = [i for i in a if i in b]\n",
        "    return result\n",
        "\n",
        "a = [1, 2, 3, 4, 5]\n",
        "b = [5, 6, 7, 8, 9]\n",
        "\n",
        "print(\"The common elements in the two lists are: \")\n",
        "print(common_member(a, b))"
      ],
      "metadata": {
        "colab": {
          "base_uri": "https://localhost:8080/"
        },
        "id": "Iy3SRWy-BMI9",
        "outputId": "950fe5ff-dee0-4f53-e6cb-ab5f0270a876"
      },
      "execution_count": 28,
      "outputs": [
        {
          "output_type": "stream",
          "name": "stdout",
          "text": [
            "12\n",
            "5\n",
            "[1]\n",
            "The common elements in the two lists are: \n",
            "[5]\n"
          ]
        }
      ]
    },
    {
      "cell_type": "code",
      "source": [
        "# map and filter\n",
        "# map loops through each items"
      ],
      "metadata": {
        "id": "dC4vU-y-AYdc"
      },
      "execution_count": 21,
      "outputs": []
    },
    {
      "cell_type": "code",
      "source": [
        "lst= [1, 2, 3, 4, 5]\n",
        "sq=map(lambda x: x**2,lst)\n",
        "print(sq)\n",
        "\n",
        "# it retruns map function, for output we need to convert it back to list\n",
        "lst= [1, 2, 3, 4, 5]\n",
        "sq=list(map(lambda x: x**2,lst))\n",
        "print(sq)\n",
        "\n",
        "# or we can loop through also\n",
        "lst= [1, 2, 3, 4, 5]\n",
        "sq=map(lambda x: x**2,lst)\n",
        "print(sq)\n",
        "\n",
        "for i in sq:\n",
        "  print(i)"
      ],
      "metadata": {
        "colab": {
          "base_uri": "https://localhost:8080/"
        },
        "id": "n6lFQzShA2_u",
        "outputId": "216ea4f0-26e0-4924-89c8-c5490378be97"
      },
      "execution_count": 33,
      "outputs": [
        {
          "output_type": "stream",
          "name": "stdout",
          "text": [
            "<map object at 0x7f5155e1b750>\n",
            "[1, 4, 9, 16, 25]\n",
            "<map object at 0x7f5155d6bb50>\n",
            "1\n",
            "4\n",
            "9\n",
            "16\n",
            "25\n"
          ]
        }
      ]
    },
    {
      "cell_type": "code",
      "source": [
        "import math\n",
        "lst= [1, 2, 3, 4, 5]\n",
        "sq=list(map(lambda x: math.sqrt(x),lst))\n",
        "print(sq)"
      ],
      "metadata": {
        "colab": {
          "base_uri": "https://localhost:8080/"
        },
        "id": "jG4zKzJ9H2bI",
        "outputId": "343e0eda-d47e-4fca-ac05-e9e26a9529ad"
      },
      "execution_count": 34,
      "outputs": [
        {
          "output_type": "stream",
          "name": "stdout",
          "text": [
            "[1.0, 1.4142135623730951, 1.7320508075688772, 2.0, 2.23606797749979]\n"
          ]
        }
      ]
    },
    {
      "cell_type": "code",
      "source": [
        " lst=[[1,2,3],[5,6,7],[6,7,9]]\n",
        " summing=list(map(lambda x: sum(x),lst))\n",
        " summing"
      ],
      "metadata": {
        "colab": {
          "base_uri": "https://localhost:8080/"
        },
        "id": "k8WXmHPFImks",
        "outputId": "a601d6ab-10c9-44ad-8e15-c070f1276793"
      },
      "execution_count": 35,
      "outputs": [
        {
          "output_type": "execute_result",
          "data": {
            "text/plain": [
              "[6, 18, 22]"
            ]
          },
          "metadata": {},
          "execution_count": 35
        }
      ]
    },
    {
      "cell_type": "code",
      "source": [
        " lst=[[1,2,3],[5,6,7],[6,7,9]]\n",
        " filtering = list(filter(lambda x: sum(x) > 7, lst))\n",
        " filtering"
      ],
      "metadata": {
        "colab": {
          "base_uri": "https://localhost:8080/"
        },
        "id": "wXZ7z3QiJBsv",
        "outputId": "c289d4d3-5f5d-4838-d304-0902b6557dd8"
      },
      "execution_count": 41,
      "outputs": [
        {
          "output_type": "execute_result",
          "data": {
            "text/plain": [
              "[[5, 6, 7], [6, 7, 9]]"
            ]
          },
          "metadata": {},
          "execution_count": 41
        }
      ]
    },
    {
      "cell_type": "code",
      "source": [
        " lst=[[1,2,3],[5,6,8],[6,7,9]]\n",
        " filter_map=filter(lambda x: x%2==0, map(lambda x: sum(x),lst)) # first write map then apply filter for that\n",
        " print(list(filter_map))"
      ],
      "metadata": {
        "colab": {
          "base_uri": "https://localhost:8080/"
        },
        "id": "2kCafiwzJhJi",
        "outputId": "e4e63fc2-c08f-445d-9c8e-2675ca98cda5"
      },
      "execution_count": 46,
      "outputs": [
        {
          "output_type": "stream",
          "name": "stdout",
          "text": [
            "[6, 22]\n"
          ]
        }
      ]
    },
    {
      "cell_type": "code",
      "source": [
        " lst=[[1,2,3],[5,6,9],[6,7,9]]\n",
        " filter_map=filter(lambda x: x%2==0, map(lambda x: sum(x),lst))\n",
        " print(list(filter_map))"
      ],
      "metadata": {
        "colab": {
          "base_uri": "https://localhost:8080/"
        },
        "id": "HqljRgBcNHKm",
        "outputId": "2868deb7-beb3-426b-d7e0-6396191f74a4"
      },
      "execution_count": 47,
      "outputs": [
        {
          "output_type": "stream",
          "name": "stdout",
          "text": [
            "[6, 20, 22]\n"
          ]
        }
      ]
    },
    {
      "cell_type": "code",
      "source": [
        "lst = [\"algoexpert\", \"is\", \"the\", \"best\"]\n",
        "x = map(len, lst)\n",
        "print(list(x))"
      ],
      "metadata": {
        "colab": {
          "base_uri": "https://localhost:8080/"
        },
        "id": "AIFvAtP_NaDX",
        "outputId": "333e7fd1-fd34-405e-9e6b-9e3fa7abacf0"
      },
      "execution_count": 48,
      "outputs": [
        {
          "output_type": "stream",
          "name": "stdout",
          "text": [
            "[10, 2, 3, 4]\n"
          ]
        }
      ]
    },
    {
      "cell_type": "code",
      "source": [
        "lst = [[2, 3, 4], [4, 5, 6], [1, 1, 1], [0, 0], [-5, -7]]\n",
        "x = filter(lambda a: abs(sum(a)) > 10, lst)\n",
        "print(list(x))"
      ],
      "metadata": {
        "colab": {
          "base_uri": "https://localhost:8080/"
        },
        "id": "vA2XUAvsN4pS",
        "outputId": "d1077759-fce6-47ae-e2bb-79631e9c26d3"
      },
      "execution_count": 49,
      "outputs": [
        {
          "output_type": "stream",
          "name": "stdout",
          "text": [
            "[[4, 5, 6], [-5, -7]]\n"
          ]
        }
      ]
    },
    {
      "cell_type": "code",
      "source": [
        "lst = [1, 2, 3, 4, 5, 6, 7, 8, 9, 10]\n",
        "x=filter(lambda x: x%2==0,map(lambda x: x**2,lst))\n",
        "for i in x:\n",
        "  print(i)\n"
      ],
      "metadata": {
        "colab": {
          "base_uri": "https://localhost:8080/"
        },
        "id": "RhTfV05ZN_HF",
        "outputId": "0723775a-ec06-4494-fd85-78ea40ee5210"
      },
      "execution_count": 50,
      "outputs": [
        {
          "output_type": "stream",
          "name": "stdout",
          "text": [
            "4\n",
            "16\n",
            "36\n",
            "64\n",
            "100\n"
          ]
        }
      ]
    },
    {
      "cell_type": "code",
      "source": [],
      "metadata": {
        "id": "-1TxjgsxOtrL"
      },
      "execution_count": null,
      "outputs": []
    }
  ]
}