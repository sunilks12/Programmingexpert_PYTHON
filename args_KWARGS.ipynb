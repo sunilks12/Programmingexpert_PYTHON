{
  "nbformat": 4,
  "nbformat_minor": 0,
  "metadata": {
    "colab": {
      "name": "args_KWARGS.ipynb",
      "provenance": [],
      "authorship_tag": "ABX9TyNvj09W7wdrc+d8ueG89A3j"
    },
    "kernelspec": {
      "name": "python3",
      "display_name": "Python 3"
    },
    "language_info": {
      "name": "python"
    }
  },
  "cells": [
    {
      "cell_type": "code",
      "execution_count": 1,
      "metadata": {
        "id": "n05Sj9krKdi5"
      },
      "outputs": [],
      "source": [
        "# When we are not sure about the number of inputs, we can;t decide the arguements\n",
        "# inside the def function so we will have to use * inside def function\n",
        "# args is just a positional arguements \n",
        "# kwargs is keyword arguements when we have like x=3,k-5 then we will have to use kwargs"
      ]
    },
    {
      "cell_type": "code",
      "source": [
        "def sum_items(*args):\n",
        "  print(sum(args))\n",
        "  print(args)\n",
        "\n",
        "sum_items(1,2,4)\n",
        "sum_items(2,2,2,2,2)\n"
      ],
      "metadata": {
        "colab": {
          "base_uri": "https://localhost:8080/"
        },
        "id": "nt6Ali5rLHf4",
        "outputId": "892bb520-9485-4abd-834d-8c07784b0978"
      },
      "execution_count": 4,
      "outputs": [
        {
          "output_type": "stream",
          "name": "stdout",
          "text": [
            "7\n",
            "(1, 2, 4)\n",
            "10\n",
            "(2, 2, 2, 2, 2)\n"
          ]
        }
      ]
    },
    {
      "cell_type": "code",
      "source": [
        "def sum_items(*args,**kwargs):\n",
        "   print(kwargs)\n",
        "   print(args)\n",
        "sum_items(1,2,4,k=3,x=7)\n",
        "sum_items(2,2,2,2,2)\n"
      ],
      "metadata": {
        "colab": {
          "base_uri": "https://localhost:8080/"
        },
        "id": "BnfGnA9YLXyv",
        "outputId": "ca996536-f8f5-4f60-9825-293628c57a86"
      },
      "execution_count": 7,
      "outputs": [
        {
          "output_type": "stream",
          "name": "stdout",
          "text": [
            "{'k': 3, 'x': 7}\n",
            "(1, 2, 4)\n",
            "{}\n",
            "(2, 2, 2, 2, 2)\n"
          ]
        }
      ]
    },
    {
      "cell_type": "code",
      "source": [
        "def sum_items(*args,**kwargs):\n",
        "   print(kwargs['k']) # accessing the element but only the first occurence will come\n",
        "\n",
        "sum_items(1,2,4,k=3,x=7,z=7)\n"
      ],
      "metadata": {
        "colab": {
          "base_uri": "https://localhost:8080/"
        },
        "id": "J6HSDdUZMNEC",
        "outputId": "581bb9ad-9b7a-4456-94bf-80a8619e14b9"
      },
      "execution_count": 10,
      "outputs": [
        {
          "output_type": "stream",
          "name": "stdout",
          "text": [
            "3\n"
          ]
        }
      ]
    },
    {
      "cell_type": "code",
      "source": [
        "# one more way of using args\n",
        "def sum_items(a,b):\n",
        "  return a+b\n",
        "args=[1,2]\n",
        "x=sum_items(args[0],args[1])\n",
        "print(x)"
      ],
      "metadata": {
        "colab": {
          "base_uri": "https://localhost:8080/"
        },
        "id": "76hWwrcfMiDo",
        "outputId": "a54dd7a1-93b7-4de5-9951-a78d77a5fcba"
      },
      "execution_count": 11,
      "outputs": [
        {
          "output_type": "stream",
          "name": "stdout",
          "text": [
            "3\n"
          ]
        }
      ]
    },
    {
      "cell_type": "code",
      "source": [
        "# instead of giving the index multiple times in the function we can use args\n",
        "def sum_items(a,b,c):\n",
        "  return a+b+c\n",
        "args=[1,2,3]\n",
        "x=sum_items(*args)\n",
        "print(x)"
      ],
      "metadata": {
        "colab": {
          "base_uri": "https://localhost:8080/"
        },
        "id": "8UxJRGAhNLHW",
        "outputId": "78ca856b-9ad3-4944-9004-326289647e3b"
      },
      "execution_count": 12,
      "outputs": [
        {
          "output_type": "stream",
          "name": "stdout",
          "text": [
            "6\n"
          ]
        }
      ]
    },
    {
      "cell_type": "code",
      "source": [
        "def sum_items(a,b,c):\n",
        "  return a+b+c\n",
        "args=\"123\"\n",
        "x=sum_items(*args)\n",
        "print(x)"
      ],
      "metadata": {
        "colab": {
          "base_uri": "https://localhost:8080/"
        },
        "id": "B4PHi3c9Nqe9",
        "outputId": "8b1af2c6-55a3-42ba-9cea-81c9f868395d"
      },
      "execution_count": 19,
      "outputs": [
        {
          "output_type": "stream",
          "name": "stdout",
          "text": [
            "123\n"
          ]
        }
      ]
    },
    {
      "cell_type": "code",
      "source": [
        "def sum_items(a,b,c):\n",
        "  return a+b+c\n",
        "kwargs={\"a\":2,\"b\":3,\"c\":2}\n",
        "x=sum_items(**kwargs)\n",
        "print(x)"
      ],
      "metadata": {
        "colab": {
          "base_uri": "https://localhost:8080/"
        },
        "id": "uk3ZPD2JOPA1",
        "outputId": "5ceef0d0-a593-4292-96dc-7b99d1858267"
      },
      "execution_count": 20,
      "outputs": [
        {
          "output_type": "stream",
          "name": "stdout",
          "text": [
            "7\n"
          ]
        }
      ]
    },
    {
      "cell_type": "code",
      "source": [
        "def sum_items(p1,p2,a,b,c): # positional args then we can use * arg\n",
        "  return a+b+c+p1+p2\n",
        "args=[1,2]\n",
        "kwargs={\"a\":2,\"b\":3,\"c\":2}\n",
        "x=sum_items(*args,**kwargs)\n",
        "print(x)"
      ],
      "metadata": {
        "colab": {
          "base_uri": "https://localhost:8080/"
        },
        "id": "hH6FApiXPEV1",
        "outputId": "fb0b761b-01fb-4296-db47-62b34de613fd"
      },
      "execution_count": 23,
      "outputs": [
        {
          "output_type": "stream",
          "name": "stdout",
          "text": [
            "10\n"
          ]
        }
      ]
    },
    {
      "cell_type": "code",
      "source": [
        "# when we want to pass the input as list but ouptut should be individual then\n",
        "def sum_items(a,b,c):\n",
        "  return a+b+c\n",
        "values=[1,2,3,4,5,6,6,7,7,7,9]\n",
        "print(*values)\n"
      ],
      "metadata": {
        "colab": {
          "base_uri": "https://localhost:8080/"
        },
        "id": "VUmeA_sIPggV",
        "outputId": "3dbbc192-ef6f-4da0-c70f-44d4a1f4b650"
      },
      "execution_count": 25,
      "outputs": [
        {
          "output_type": "stream",
          "name": "stdout",
          "text": [
            "1 2 3 4 5 6 6 7 7 7 9\n"
          ]
        }
      ]
    },
    {
      "cell_type": "code",
      "source": [
        " print(*[1, 2, 3, 4], **{'end': \"|\", 'sep': \"*\"})"
      ],
      "metadata": {
        "colab": {
          "base_uri": "https://localhost:8080/"
        },
        "id": "DDPa2MMbQVxC",
        "outputId": "e65163e6-1edb-4e85-dc99-8cadb6a052b7"
      },
      "execution_count": 26,
      "outputs": [
        {
          "output_type": "stream",
          "name": "stdout",
          "text": [
            "1*2*3*4|"
          ]
        }
      ]
    },
    {
      "cell_type": "code",
      "source": [
        "def get_args_and_kwargs(*args, **kwargs):\n",
        "    number_of_args = len(args) + len(kwargs)\n",
        "    num = kwargs.get(\"num\", 0)\n",
        "\n",
        "    if not isinstance(num, int) and not isinstance(num, float):\n",
        "        return False\n",
        "\n",
        "    return number_of_args >= 4 and num > 5\n"
      ],
      "metadata": {
        "id": "h1ISxH_CRKiP"
      },
      "execution_count": 27,
      "outputs": []
    },
    {
      "cell_type": "code",
      "source": [
        "def addition(*args):\n",
        "   result = 0\n",
        "   for i in args:\n",
        "      result += i\n",
        "   return result"
      ],
      "metadata": {
        "id": "bAGGEosFRnbg"
      },
      "execution_count": 1,
      "outputs": []
    },
    {
      "cell_type": "code",
      "source": [
        "addition(1,2,4,5,6)"
      ],
      "metadata": {
        "colab": {
          "base_uri": "https://localhost:8080/"
        },
        "id": "EHM416dEBfI0",
        "outputId": "fdc7069f-b251-4ea4-a2c9-9962270ee428"
      },
      "execution_count": 2,
      "outputs": [
        {
          "output_type": "execute_result",
          "data": {
            "text/plain": [
              "18"
            ]
          },
          "metadata": {},
          "execution_count": 2
        }
      ]
    },
    {
      "cell_type": "code",
      "source": [
        ""
      ],
      "metadata": {
        "id": "1zYIsr-bCESP"
      },
      "execution_count": null,
      "outputs": []
    }
  ]
}