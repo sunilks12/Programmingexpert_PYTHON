{
  "nbformat": 4,
  "nbformat_minor": 0,
  "metadata": {
    "colab": {
      "name": "string.ipynb",
      "provenance": [],
      "authorship_tag": "ABX9TyOdptqROmxWRqr+x8lNBRpU"
    },
    "kernelspec": {
      "name": "python3",
      "display_name": "Python 3"
    },
    "language_info": {
      "name": "python"
    }
  },
  "cells": [
    {
      "cell_type": "code",
      "execution_count": null,
      "metadata": {
        "colab": {
          "base_uri": "https://localhost:8080/"
        },
        "id": "5e8S0v46moyc",
        "outputId": "4b3195ff-cf63-418b-ba9b-1f55a3118673"
      },
      "outputs": [
        {
          "output_type": "stream",
          "name": "stdout",
          "text": [
            "algofooxpfoort\n"
          ]
        }
      ],
      "source": [
        "var = \"algoexpert\".upper().replace(\"o\", \"i\").capitalize().lower().split(\"e\")\n",
        "\n",
        "print(\"foo\".join(var))"
      ]
    },
    {
      "cell_type": "code",
      "source": [
        "user_input = input(\"Enter an integer: \")\n",
        "\n",
        "if user_input.isdigit():\n",
        "    name = input(\"What is your name? \")\n",
        "\n",
        "    print(\"Hello,\", name.upper())\n",
        "else:\n",
        "    print(user_input.capitalize())\n"
      ],
      "metadata": {
        "colab": {
          "base_uri": "https://localhost:8080/"
        },
        "id": "aT90dZypmr_8",
        "outputId": "6c09e60c-017d-4a1d-dcfa-0d06373e1809"
      },
      "execution_count": null,
      "outputs": [
        {
          "output_type": "stream",
          "name": "stdout",
          "text": [
            "Enter an integer: 3\n",
            "What is your name? hello\n",
            "Hello, HELLO\n"
          ]
        }
      ]
    },
    {
      "cell_type": "code",
      "source": [
        "word1 = input(\"Enter a word: \")\n",
        "word2 = input(\"Enter another word: \")\n",
        "\n",
        "if word1 in word2:\n",
        "    print(\"The first word is contained in the second one\")\n",
        "else:\n",
        "    print(\"The first word isn't contained in the second one\")\n"
      ],
      "metadata": {
        "colab": {
          "base_uri": "https://localhost:8080/"
        },
        "id": "TCAGHGlyrs53",
        "outputId": "eede25da-1789-493c-ed40-fd6b3bcb714d"
      },
      "execution_count": null,
      "outputs": [
        {
          "output_type": "stream",
          "name": "stdout",
          "text": [
            "Enter a word: algo\n",
            "Enter another word: algoexpert\n",
            "The first word is contained in the second one\n"
          ]
        }
      ]
    },
    {
      "cell_type": "code",
      "source": [
        "sentence = input(\"Enter a sentence: \")\n",
        "\n",
        "words = sentence.split(\" \")\n",
        "number_of_words = len(words)\n",
        "\n",
        "print(f\"There are {number_of_words} words in this sentence\")\n"
      ],
      "metadata": {
        "colab": {
          "base_uri": "https://localhost:8080/"
        },
        "id": "u3SHivdjsAnm",
        "outputId": "fdf8e307-f593-4236-b109-401e7285518d"
      },
      "execution_count": null,
      "outputs": [
        {
          "output_type": "stream",
          "name": "stdout",
          "text": [
            "Enter a sentence: hello how are you\n",
            "There are 4 words in this sentence\n"
          ]
        }
      ]
    },
    {
      "cell_type": "code",
      "source": [
        "print(\"    *\\n   ***\\n  *****\\n *******\\n  *****\\n   ***\\n    *\")"
      ],
      "metadata": {
        "colab": {
          "base_uri": "https://localhost:8080/"
        },
        "id": "qLAC6R9asRUc",
        "outputId": "190811aa-b49b-48e6-ba19-436f52bfb43f"
      },
      "execution_count": null,
      "outputs": [
        {
          "output_type": "stream",
          "name": "stdout",
          "text": [
            "    *\n",
            "   ***\n",
            "  *****\n",
            " *******\n",
            "  *****\n",
            "   ***\n",
            "    *\n"
          ]
        }
      ]
    },
    {
      "cell_type": "code",
      "source": [
        ""
      ],
      "metadata": {
        "id": "cnIYPwJbse3u"
      },
      "execution_count": null,
      "outputs": []
    }
  ]
}